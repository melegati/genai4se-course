{
 "cells": [
  {
   "cell_type": "code",
   "execution_count": 7,
   "id": "8cab694e-5cea-4853-b0d8-9e2fc5434ea2",
   "metadata": {},
   "outputs": [
    {
     "name": "stdout",
     "output_type": "stream",
     "text": [
      "Requirement already satisfied: langchain in ./env/lib/python3.12/site-packages (0.3.15)\n",
      "Requirement already satisfied: jq in ./env/lib/python3.12/site-packages (1.8.0)\n",
      "Requirement already satisfied: langchain-community in ./env/lib/python3.12/site-packages (0.3.15)\n",
      "Collecting langchain-openai\n",
      "  Downloading langchain_openai-0.3.2-py3-none-any.whl.metadata (2.7 kB)\n",
      "Requirement already satisfied: PyYAML>=5.3 in ./env/lib/python3.12/site-packages (from langchain) (6.0.2)\n",
      "Requirement already satisfied: SQLAlchemy<3,>=1.4 in ./env/lib/python3.12/site-packages (from langchain) (2.0.37)\n",
      "Requirement already satisfied: aiohttp<4.0.0,>=3.8.3 in ./env/lib/python3.12/site-packages (from langchain) (3.11.11)\n",
      "Requirement already satisfied: langchain-core<0.4.0,>=0.3.31 in ./env/lib/python3.12/site-packages (from langchain) (0.3.31)\n",
      "Requirement already satisfied: langchain-text-splitters<0.4.0,>=0.3.3 in ./env/lib/python3.12/site-packages (from langchain) (0.3.5)\n",
      "Requirement already satisfied: langsmith<0.4,>=0.1.17 in ./env/lib/python3.12/site-packages (from langchain) (0.3.2)\n",
      "Requirement already satisfied: numpy<3,>=1.26.2 in ./env/lib/python3.12/site-packages (from langchain) (2.2.2)\n",
      "Requirement already satisfied: pydantic<3.0.0,>=2.7.4 in ./env/lib/python3.12/site-packages (from langchain) (2.10.6)\n",
      "Requirement already satisfied: requests<3,>=2 in ./env/lib/python3.12/site-packages (from langchain) (2.32.3)\n",
      "Requirement already satisfied: tenacity!=8.4.0,<10,>=8.1.0 in ./env/lib/python3.12/site-packages (from langchain) (9.0.0)\n",
      "Requirement already satisfied: dataclasses-json<0.7,>=0.5.7 in ./env/lib/python3.12/site-packages (from langchain-community) (0.6.7)\n",
      "Requirement already satisfied: httpx-sse<0.5.0,>=0.4.0 in ./env/lib/python3.12/site-packages (from langchain-community) (0.4.0)\n",
      "Requirement already satisfied: pydantic-settings<3.0.0,>=2.4.0 in ./env/lib/python3.12/site-packages (from langchain-community) (2.7.1)\n",
      "Collecting openai<2.0.0,>=1.58.1 (from langchain-openai)\n",
      "  Downloading openai-1.60.2-py3-none-any.whl.metadata (27 kB)\n",
      "Collecting tiktoken<1,>=0.7 (from langchain-openai)\n",
      "  Using cached tiktoken-0.8.0-cp312-cp312-macosx_10_13_x86_64.whl.metadata (6.6 kB)\n",
      "Requirement already satisfied: aiohappyeyeballs>=2.3.0 in ./env/lib/python3.12/site-packages (from aiohttp<4.0.0,>=3.8.3->langchain) (2.4.4)\n",
      "Requirement already satisfied: aiosignal>=1.1.2 in ./env/lib/python3.12/site-packages (from aiohttp<4.0.0,>=3.8.3->langchain) (1.3.2)\n",
      "Requirement already satisfied: attrs>=17.3.0 in ./env/lib/python3.12/site-packages (from aiohttp<4.0.0,>=3.8.3->langchain) (25.1.0)\n",
      "Requirement already satisfied: frozenlist>=1.1.1 in ./env/lib/python3.12/site-packages (from aiohttp<4.0.0,>=3.8.3->langchain) (1.5.0)\n",
      "Requirement already satisfied: multidict<7.0,>=4.5 in ./env/lib/python3.12/site-packages (from aiohttp<4.0.0,>=3.8.3->langchain) (6.1.0)\n",
      "Requirement already satisfied: propcache>=0.2.0 in ./env/lib/python3.12/site-packages (from aiohttp<4.0.0,>=3.8.3->langchain) (0.2.1)\n",
      "Requirement already satisfied: yarl<2.0,>=1.17.0 in ./env/lib/python3.12/site-packages (from aiohttp<4.0.0,>=3.8.3->langchain) (1.18.3)\n",
      "Requirement already satisfied: marshmallow<4.0.0,>=3.18.0 in ./env/lib/python3.12/site-packages (from dataclasses-json<0.7,>=0.5.7->langchain-community) (3.26.0)\n",
      "Requirement already satisfied: typing-inspect<1,>=0.4.0 in ./env/lib/python3.12/site-packages (from dataclasses-json<0.7,>=0.5.7->langchain-community) (0.9.0)\n",
      "Requirement already satisfied: jsonpatch<2.0,>=1.33 in ./env/lib/python3.12/site-packages (from langchain-core<0.4.0,>=0.3.31->langchain) (1.33)\n",
      "Requirement already satisfied: packaging<25,>=23.2 in ./env/lib/python3.12/site-packages (from langchain-core<0.4.0,>=0.3.31->langchain) (24.2)\n",
      "Requirement already satisfied: typing-extensions>=4.7 in ./env/lib/python3.12/site-packages (from langchain-core<0.4.0,>=0.3.31->langchain) (4.12.2)\n",
      "Requirement already satisfied: httpx<1,>=0.23.0 in ./env/lib/python3.12/site-packages (from langsmith<0.4,>=0.1.17->langchain) (0.28.1)\n",
      "Requirement already satisfied: orjson<4.0.0,>=3.9.14 in ./env/lib/python3.12/site-packages (from langsmith<0.4,>=0.1.17->langchain) (3.10.15)\n",
      "Requirement already satisfied: requests-toolbelt<2.0.0,>=1.0.0 in ./env/lib/python3.12/site-packages (from langsmith<0.4,>=0.1.17->langchain) (1.0.0)\n",
      "Requirement already satisfied: zstandard<0.24.0,>=0.23.0 in ./env/lib/python3.12/site-packages (from langsmith<0.4,>=0.1.17->langchain) (0.23.0)\n",
      "Requirement already satisfied: anyio<5,>=3.5.0 in ./env/lib/python3.12/site-packages (from openai<2.0.0,>=1.58.1->langchain-openai) (4.8.0)\n",
      "Collecting distro<2,>=1.7.0 (from openai<2.0.0,>=1.58.1->langchain-openai)\n",
      "  Using cached distro-1.9.0-py3-none-any.whl.metadata (6.8 kB)\n",
      "Collecting jiter<1,>=0.4.0 (from openai<2.0.0,>=1.58.1->langchain-openai)\n",
      "  Using cached jiter-0.8.2-cp312-cp312-macosx_10_12_x86_64.whl.metadata (5.2 kB)\n",
      "Requirement already satisfied: sniffio in ./env/lib/python3.12/site-packages (from openai<2.0.0,>=1.58.1->langchain-openai) (1.3.1)\n",
      "Collecting tqdm>4 (from openai<2.0.0,>=1.58.1->langchain-openai)\n",
      "  Using cached tqdm-4.67.1-py3-none-any.whl.metadata (57 kB)\n",
      "Requirement already satisfied: annotated-types>=0.6.0 in ./env/lib/python3.12/site-packages (from pydantic<3.0.0,>=2.7.4->langchain) (0.7.0)\n",
      "Requirement already satisfied: pydantic-core==2.27.2 in ./env/lib/python3.12/site-packages (from pydantic<3.0.0,>=2.7.4->langchain) (2.27.2)\n",
      "Requirement already satisfied: python-dotenv>=0.21.0 in ./env/lib/python3.12/site-packages (from pydantic-settings<3.0.0,>=2.4.0->langchain-community) (1.0.1)\n",
      "Requirement already satisfied: charset-normalizer<4,>=2 in ./env/lib/python3.12/site-packages (from requests<3,>=2->langchain) (3.4.1)\n",
      "Requirement already satisfied: idna<4,>=2.5 in ./env/lib/python3.12/site-packages (from requests<3,>=2->langchain) (3.10)\n",
      "Requirement already satisfied: urllib3<3,>=1.21.1 in ./env/lib/python3.12/site-packages (from requests<3,>=2->langchain) (2.3.0)\n",
      "Requirement already satisfied: certifi>=2017.4.17 in ./env/lib/python3.12/site-packages (from requests<3,>=2->langchain) (2024.12.14)\n",
      "Requirement already satisfied: greenlet!=0.4.17 in ./env/lib/python3.12/site-packages (from SQLAlchemy<3,>=1.4->langchain) (3.1.1)\n",
      "Collecting regex>=2022.1.18 (from tiktoken<1,>=0.7->langchain-openai)\n",
      "  Using cached regex-2024.11.6-cp312-cp312-macosx_10_13_x86_64.whl.metadata (40 kB)\n",
      "Requirement already satisfied: httpcore==1.* in ./env/lib/python3.12/site-packages (from httpx<1,>=0.23.0->langsmith<0.4,>=0.1.17->langchain) (1.0.7)\n",
      "Requirement already satisfied: h11<0.15,>=0.13 in ./env/lib/python3.12/site-packages (from httpcore==1.*->httpx<1,>=0.23.0->langsmith<0.4,>=0.1.17->langchain) (0.14.0)\n",
      "Requirement already satisfied: jsonpointer>=1.9 in ./env/lib/python3.12/site-packages (from jsonpatch<2.0,>=1.33->langchain-core<0.4.0,>=0.3.31->langchain) (3.0.0)\n",
      "Requirement already satisfied: mypy-extensions>=0.3.0 in ./env/lib/python3.12/site-packages (from typing-inspect<1,>=0.4.0->dataclasses-json<0.7,>=0.5.7->langchain-community) (1.0.0)\n",
      "Downloading langchain_openai-0.3.2-py3-none-any.whl (54 kB)\n",
      "Downloading openai-1.60.2-py3-none-any.whl (456 kB)\n",
      "Using cached tiktoken-0.8.0-cp312-cp312-macosx_10_13_x86_64.whl (1.0 MB)\n",
      "Using cached distro-1.9.0-py3-none-any.whl (20 kB)\n",
      "Using cached jiter-0.8.2-cp312-cp312-macosx_10_12_x86_64.whl (302 kB)\n",
      "Using cached regex-2024.11.6-cp312-cp312-macosx_10_13_x86_64.whl (288 kB)\n",
      "Using cached tqdm-4.67.1-py3-none-any.whl (78 kB)\n",
      "Installing collected packages: tqdm, regex, jiter, distro, tiktoken, openai, langchain-openai\n",
      "Successfully installed distro-1.9.0 jiter-0.8.2 langchain-openai-0.3.2 openai-1.60.2 regex-2024.11.6 tiktoken-0.8.0 tqdm-4.67.1\n"
     ]
    }
   ],
   "source": [
    "!pip install langchain jq langchain-community langchain-openai"
   ]
  },
  {
   "cell_type": "code",
   "execution_count": 5,
   "id": "3426e6f6-43e1-4637-9900-6bde98ef1d60",
   "metadata": {},
   "outputs": [
    {
     "name": "stdin",
     "output_type": "stream",
     "text": [
      "Enter API key for OpenAI:  ········\n"
     ]
    }
   ],
   "source": [
    "import getpass\n",
    "import os\n",
    "\n",
    "if not os.environ.get(\"OPENAI_API_KEY\"):\n",
    "  os.environ[\"OPENAI_API_KEY\"] = getpass.getpass(\"Enter API key for OpenAI: \")"
   ]
  },
  {
   "cell_type": "code",
   "execution_count": 11,
   "id": "dc183618-6a17-42fb-8381-1b72544e96d3",
   "metadata": {},
   "outputs": [],
   "source": [
    "from langchain_community.document_loaders import JSONLoader\n",
    "import json\n",
    "from pathlib import Path\n",
    "\n",
    "file_path='./opendatahub.json'\n",
    "data = json.loads(Path(file_path).read_text())\n",
    "loader = JSONLoader(\n",
    "         file_path=file_path,\n",
    "         jq_schema='.paths | to_entries[] | .key as $path | .value | to_entries[] | { path:$path, method:.key, tag:.value.tags[0], summary:.value.summary }',\n",
    "         text_content=False)"
   ]
  },
  {
   "cell_type": "code",
   "execution_count": 12,
   "id": "86101c3b-c6e7-4e64-9397-35aad2b42639",
   "metadata": {},
   "outputs": [],
   "source": [
    "docs = loader.load()"
   ]
  },
  {
   "cell_type": "code",
   "execution_count": null,
   "id": "43d29108-53b9-40cf-be04-19e7bbd50269",
   "metadata": {},
   "outputs": [],
   "source": [
    "len(docs)"
   ]
  },
  {
   "cell_type": "code",
   "execution_count": null,
   "id": "41c863df-c679-419e-9439-7a16b2232836",
   "metadata": {},
   "outputs": [],
   "source": [
    "docs[0]"
   ]
  },
  {
   "cell_type": "code",
   "execution_count": 8,
   "id": "c66b6d94-584a-4990-8d83-7ba39bd69203",
   "metadata": {},
   "outputs": [],
   "source": [
    "from langchain_openai import OpenAIEmbeddings\n",
    "\n",
    "embeddings = OpenAIEmbeddings(model=\"text-embedding-3-large\")"
   ]
  },
  {
   "cell_type": "code",
   "execution_count": 9,
   "id": "554795e1-c45a-48ad-8feb-660c04443d0f",
   "metadata": {},
   "outputs": [],
   "source": [
    "from langchain_core.vectorstores import InMemoryVectorStore\n",
    "\n",
    "vector_store = InMemoryVectorStore(embeddings)"
   ]
  },
  {
   "cell_type": "code",
   "execution_count": 14,
   "id": "f0dfeb4f-ea9f-4251-a487-29131e767719",
   "metadata": {},
   "outputs": [],
   "source": [
    "ids = vector_store.add_documents(documents=docs)"
   ]
  },
  {
   "cell_type": "code",
   "execution_count": 15,
   "id": "2456d5e1-9ce2-45ca-ada0-b1644b8b3b76",
   "metadata": {},
   "outputs": [
    {
     "data": {
      "text/plain": [
       "['1431b31b-04cb-473e-9ab9-3302476d1dee',\n",
       " 'fca0bc3b-0514-42bc-b627-6982f2e3a425',\n",
       " '08d7835d-b6d2-42d7-a2d1-392d8615dd8a',\n",
       " 'c5fb6717-c8f1-4242-b286-514f6572e8b5',\n",
       " '6b3e8d99-f516-4d71-8440-6825b0af72c9',\n",
       " 'eed822a8-fda9-498a-9ed3-4d8e3002033d',\n",
       " 'd2b1a264-6f4d-454a-b5e5-92d5bfb7417c',\n",
       " '8a06e83f-59fb-4a4e-9229-6f8baec68bc2',\n",
       " '8f0a5edb-94b4-43bf-a83a-e07658b1e4e2',\n",
       " 'c41ee878-db3a-4ea3-8f02-7adec6d32b0f',\n",
       " '77367f0d-7019-4ca8-9cc5-1383b7eb599e',\n",
       " 'bf41ce12-028b-478c-b847-187b971cecda',\n",
       " 'c7fb0727-68c3-420d-b5ee-f8fe86ffbc16',\n",
       " 'ff65fada-9474-4e55-b551-c6c57b2a2337',\n",
       " '0fd811d0-c8b5-4af6-9825-807b1f345b51',\n",
       " 'bfd917c6-b7ea-4e9e-91af-c5f1ed38a82a',\n",
       " 'a2482b6a-29d2-4c19-8050-e1f4158ab023',\n",
       " '069b0907-841d-4685-b08b-46925fc262bc',\n",
       " 'e2266b62-b1b5-4dc1-85a0-373c0bfc1f6c',\n",
       " 'd31aa998-66e9-4704-8088-73b0b5d0d925',\n",
       " 'f0a744ee-f6fa-4e83-afca-950732fde175',\n",
       " '08cd63bc-7cb8-4fb3-ab1f-0f0b89ad44f5',\n",
       " '6b7ab26d-4135-4177-9e59-6cf39d4d2402',\n",
       " 'c6137d42-7cc2-4500-b43d-9f186be636ea',\n",
       " '2d64a65d-e92b-4837-936b-dadbab33c1f4',\n",
       " '20375810-f4c8-4f9e-a69f-9a87a0b82189',\n",
       " '0167ef32-bd29-4869-b41c-016f1cec3f51',\n",
       " '0aba3a3f-610e-4bc1-ae02-3a72a32279a9',\n",
       " 'a126c58d-5816-4ec6-9856-fe4a02e382f0',\n",
       " '3994ea53-5538-4844-9996-ac6c97d74581',\n",
       " '18fbc690-446b-48e5-b36c-2cb7b6447051',\n",
       " 'f22a5363-60a3-4d9d-90aa-f561593349fe',\n",
       " 'ac10d546-6de7-4085-8c7b-8a2be0ccb729',\n",
       " '367b912d-0a2d-4418-baca-297c37921b8e',\n",
       " 'e98d8d39-3a05-4fae-bb68-c35ff193415e',\n",
       " 'bbce3f6e-0e39-4311-89f4-6fa42a230b61',\n",
       " 'd8b4e2be-0a9d-406d-84a0-96cc62d2a670',\n",
       " 'f723258f-75e9-470a-93af-f70a90aa58e3',\n",
       " '5ca9954e-b33d-42f6-8e27-0dfd78fa34a1',\n",
       " '71983610-595b-44d5-92be-6c2b3c4591cf',\n",
       " '3ec4123a-3cca-45ed-a618-ee5184d3b52f',\n",
       " '73074b11-e375-44b5-862e-79320c097b59',\n",
       " 'fae8bc16-0fac-4e2e-be95-03cd6210d887',\n",
       " '4a81b546-234a-404b-8a45-991bc4ba6af8',\n",
       " '153d6ed5-3351-4eb2-aafd-0aac2ef2e7a8',\n",
       " 'f00211e5-7ff1-4ba5-a636-a10c6b5bd1d9',\n",
       " '0d5f0c30-d986-4440-bc75-0425c1384538',\n",
       " '871eb188-77df-4be2-a3e2-447f94bc40cc',\n",
       " '07a8fc5e-61c3-42da-b065-97cc22f8aa84',\n",
       " '1b5de0c7-52b1-427a-90f2-e45a2a9d7149',\n",
       " 'cebed88f-8078-44c2-97d1-a85b186850cc',\n",
       " '90a60663-b4d9-4ba0-a8cc-92e323e93b77',\n",
       " '6b537eb9-be0b-4554-8ace-616204e45da3',\n",
       " '1587e766-6baa-4ec8-a8e8-a61bbf4f1fdc',\n",
       " '27159adb-0357-4c60-822b-ab8ef32fe1ed',\n",
       " '9d79f830-64cc-49de-9b73-b7a34db996c8',\n",
       " '855a788d-068d-4a39-9cb2-fb0d607e5aa7',\n",
       " '902808dc-b8e1-48e4-ade9-d8326d2589e7',\n",
       " 'afb38243-49b0-43d7-9748-6430c695944e',\n",
       " '53caed63-3701-4aa2-a805-453e5d6a9e22',\n",
       " '4c962cbb-802c-454f-9ff4-eb90fbe94874',\n",
       " '640b4e25-c691-44c8-8c97-c17932573b48',\n",
       " 'fb028dfb-3f29-4f3e-9417-77a695cd60c2',\n",
       " '1c95901f-475c-4f70-9fd6-ecd5cc2b607b',\n",
       " 'eaa6dfa1-5b61-4dc0-9922-b6cba3f802c0',\n",
       " 'b4d2ff78-1996-443a-884c-8d696afc0f4d',\n",
       " '7d7b2d22-54bc-45ef-ae45-9176a61e9344',\n",
       " '11dd80c0-c4d2-410a-b401-ee173c37a62e',\n",
       " '7d235bf2-d6ae-4c2e-a375-5ce383385d7b',\n",
       " '1e044d81-4e6d-4117-b709-eb2f3aef658a',\n",
       " '5a9140ef-4da8-42c7-82dc-011506ebdaa5',\n",
       " 'aa2f7c56-ecbe-489b-ac7c-58bc5c6ff6dc',\n",
       " 'ee8f7c4a-1b25-43e9-9109-47993381fe03',\n",
       " '87c05aee-ba3b-4be7-be12-b3aac93986d7',\n",
       " '1d12f95d-78a7-441f-b49e-4bf6ee29fd51',\n",
       " 'c01c29e7-1f45-4da9-a52b-b1e3b0b7b8fd',\n",
       " 'b8437025-b5f1-41f7-b879-967a4673c974',\n",
       " '505bae62-8b0d-4bb1-bdbc-73f37917e775',\n",
       " '6d0575cb-47ba-4a65-8215-638e12620507',\n",
       " 'e66b0419-41ec-4e25-b7d7-6dc5d343673e',\n",
       " '73790e86-3230-4837-9f4e-187ad593608f',\n",
       " '0ccab1cd-d520-4511-b5df-c588bc951b63',\n",
       " 'e445c9d0-b7a0-48aa-9440-43a1fd68990e',\n",
       " 'f7251f93-8130-493a-a881-768fb78eb25f',\n",
       " '57cab13a-ac13-45bc-9ef5-6f13ea5fbba0',\n",
       " 'f4e8a6ab-48cd-41de-bfca-056f1b902c26',\n",
       " '8ffb2f01-4774-42f7-9966-a6637a0fe2be',\n",
       " '6b224009-305f-4e69-bbbe-236e6e591133',\n",
       " 'a294211b-9109-4472-b9a4-c9d83fc23d8b',\n",
       " '59a50a92-083a-4f46-807a-628880fc371b',\n",
       " '3d0ec70a-19a6-4fee-b70e-9d4cc389b8b0',\n",
       " '5399ccb1-2d51-4b43-973e-9a36e4260a81',\n",
       " '639bb0ad-6d35-404c-8c9a-9a09ba368ef3',\n",
       " 'ac1cd6da-76a9-4cad-934f-e43375c3a405',\n",
       " '27f55580-7dfe-45d8-97e9-f233d956b09e',\n",
       " '021a7be8-9d8d-4c07-911f-f6ee0dd75bb9',\n",
       " '59f08be5-a1d0-4f13-975a-2dda08434854',\n",
       " 'a2ad4802-8e9c-453e-a7ac-3b0df0dd2701',\n",
       " 'c0d9080d-39c7-49dd-89cf-d7183d824876',\n",
       " '235cf07e-79fc-4925-98fb-07bfe09b0257',\n",
       " 'a899c977-e14e-421b-9493-6d840d528569',\n",
       " '9fe32bca-c6c3-4898-9abe-3c3ed26ec310',\n",
       " '93602c8c-1cad-491b-a0e2-909531a269fd',\n",
       " 'b9a7447a-8ca1-4c9c-a91c-9a52f12e211b',\n",
       " 'f2b80b79-3c57-4ac0-9dc0-d2961417cc92',\n",
       " '342404ee-0d3d-4406-9301-ec97bf8a6464',\n",
       " 'daaa20b0-38f3-4507-b004-cb95461075a2',\n",
       " 'de53e51e-7153-4aaf-9b06-33deb4ef9d71',\n",
       " '90a76c1a-0e1a-46d0-8ce2-43b1ac39f178',\n",
       " '19599cc4-990b-4c84-82ef-2a6a3650bd33',\n",
       " '140a3773-088c-41eb-98c6-65e697c39d3b',\n",
       " '4fe36ef7-2707-4343-8b60-0c38e149763b',\n",
       " '03b178e8-e0a6-4b72-834a-f50f86531978',\n",
       " '69e617bc-f86a-4298-a50e-fa5b2beac07f',\n",
       " '73c6d6e4-67ff-4d21-b3c2-28ee7017e751',\n",
       " 'eba27f87-d760-4ac6-8819-5e3c1ff03e15',\n",
       " '2b49478d-63d5-4e39-b0ae-3e29fbacd73e',\n",
       " 'b6ffe255-142d-4b3a-b78a-66cf5ed49d53',\n",
       " '55b5a3ac-075e-4bb4-9877-b037cccd1194',\n",
       " '8f330622-f60e-4e77-bd15-885c8174af47',\n",
       " '34ff0498-aa6e-405c-b720-4dd66662c951',\n",
       " 'd7f4b705-1362-4ba8-b1f6-5e82b5acbeaf',\n",
       " 'c55b1adf-fad8-4735-861f-260df5146e08',\n",
       " '5016c099-f1ba-4bac-8b2b-3349e3dff069',\n",
       " 'c3c815c5-47b4-4bd5-8a1b-57e6cd053ade',\n",
       " '9f503124-36e7-4bc7-81ce-9bb1e86d43c1',\n",
       " 'b2185407-e527-4c00-ac5c-5ec9417e92e9',\n",
       " '735a6e41-824b-4f1c-8f70-2fbf68d48506',\n",
       " '6ca8a6dd-7529-4351-b958-342e8971c777',\n",
       " '99089545-83d5-4413-ae0d-648637207ac5',\n",
       " '89a5e6c8-b47d-477e-9eac-2bb7696e70c0',\n",
       " 'e046f93d-03ca-472c-ad9e-c88e00032164',\n",
       " 'ac7f685e-f0a7-4377-8478-4766b766739c',\n",
       " '9e0f4bde-7265-47eb-9570-eec547ea9b56',\n",
       " '59e45c14-0e83-4dcc-996c-2c121688c542',\n",
       " 'c9ccc8f6-d079-42b0-9ca3-65035626db17',\n",
       " '9f0ad2ac-bd07-48b8-bfeb-8ab4ce220236',\n",
       " '502559e1-65b5-4a9c-8fe4-5f9852c0f822',\n",
       " 'e40bae06-589b-45eb-a320-ef32ac5d6f46',\n",
       " '359e04ed-3fb6-4397-beb9-f5db65d5b32b',\n",
       " '3d9c480d-01b4-496a-9059-8ff3cd66cb3a',\n",
       " '7b3b3106-f6f4-4702-b262-991cf71a603d',\n",
       " '21775d42-9af6-4bfd-b921-261241f5d4c9',\n",
       " 'f70b1106-d29f-4599-8531-86649c9e56fc',\n",
       " 'f5f89f4c-93c5-4630-aae5-2e7361488579',\n",
       " '45501cc6-8feb-4bcc-bba1-4fdcd162f065',\n",
       " '9aafc2f6-f7c3-4579-8457-d7b9907bf15a',\n",
       " '1b91629d-a3ff-4047-9bd8-d9c6f63429e0',\n",
       " '2f39aeb6-79e2-4bc3-a07d-f584a13fdafe',\n",
       " 'f84dcfde-3b5a-48c0-a752-70dfbef2c4ce',\n",
       " 'ce8220d4-da0b-47dc-b8f9-24ba581f8a3d',\n",
       " '76948200-434f-4c8d-92a6-8cfc1a054061']"
      ]
     },
     "execution_count": 15,
     "metadata": {},
     "output_type": "execute_result"
    }
   ],
   "source": [
    "ids"
   ]
  },
  {
   "cell_type": "code",
   "execution_count": 31,
   "id": "ec9108ca-da80-43eb-915d-7ad70779749d",
   "metadata": {},
   "outputs": [],
   "source": [
    "question = \"Given the information of the REST api provided above, write a piece of code to list the events in Python.\""
   ]
  },
  {
   "cell_type": "code",
   "execution_count": 32,
   "id": "05f03c13-9c08-448d-9794-2ea08651e919",
   "metadata": {},
   "outputs": [
    {
     "data": {
      "text/plain": [
       "'{\"path\": \"/v2/Event\", \"method\": \"get\", \"tag\": \"EventV2\", \"summary\": \"GET Event List\"}\\n\\n{\"path\": \"/v1/Event\", \"method\": \"get\", \"tag\": \"Event\", \"summary\": \"GET Event List\"}\\n\\n{\"path\": \"/v1/EventTopics\", \"method\": \"get\", \"tag\": \"Event\", \"summary\": \"GET Event Topic List\"}\\n\\n{\"path\": \"/v1/EventShort\", \"method\": \"get\", \"tag\": \"EventShort\", \"summary\": \"GET EventShort List\"}'"
      ]
     },
     "execution_count": 32,
     "metadata": {},
     "output_type": "execute_result"
    }
   ],
   "source": [
    "retrieved_docs = vector_store.similarity_search(question)\n",
    "docs_content = \"\\n\\n\".join(doc.page_content for doc in retrieved_docs)\n",
    "docs_content"
   ]
  },
  {
   "cell_type": "code",
   "execution_count": 33,
   "id": "dccb48e0-379e-43e4-82a2-cf0f3b205315",
   "metadata": {},
   "outputs": [
    {
     "name": "stderr",
     "output_type": "stream",
     "text": [
      "/Users/user/Projects/genai4se-course/env/lib/python3.12/site-packages/langsmith/client.py:253: LangSmithMissingAPIKeyWarning: API key must be provided when using hosted LangSmith API\n",
      "  warnings.warn(\n"
     ]
    },
    {
     "name": "stdout",
     "output_type": "stream",
     "text": [
      "==================================\u001b[1m Ai Message \u001b[0m==================================\n",
      "\n",
      "To list the events using the REST API in Python, you can use the `requests` library. Here's a sample code snippet:\n",
      "\n",
      "```python\n",
      "import requests\n",
      "\n",
      "response = requests.get('https://yourapiurl.com/v2/Event')\n",
      "events = response.json()\n",
      "print(events)\n",
      "```\n"
     ]
    }
   ],
   "source": [
    "from langchain import hub\n",
    "from langchain_openai import ChatOpenAI\n",
    "\n",
    "\n",
    "llm = ChatOpenAI(model=\"gpt-4o-mini\")\n",
    "\n",
    "prompt = hub.pull(\"rlm/rag-prompt\")\n",
    "\n",
    "example_messages = prompt.invoke(\n",
    "    {\"context\": \"(context goes here)\", \"question\": \"(question goes here)\"}\n",
    ").to_messages()\n",
    "\n",
    "prompt = prompt.invoke({\"question\": question, \"context\": docs_content})\n",
    "answer = llm.invoke(prompt)\n",
    "answer.pretty_print()"
   ]
  },
  {
   "cell_type": "code",
   "execution_count": null,
   "id": "280eaf93-9ca5-4f2e-82a4-11c3198df0be",
   "metadata": {},
   "outputs": [],
   "source": []
  }
 ],
 "metadata": {
  "kernelspec": {
   "display_name": "gen4ai-course",
   "language": "python",
   "name": "gen4ai-course"
  },
  "language_info": {
   "codemirror_mode": {
    "name": "ipython",
    "version": 3
   },
   "file_extension": ".py",
   "mimetype": "text/x-python",
   "name": "python",
   "nbconvert_exporter": "python",
   "pygments_lexer": "ipython3",
   "version": "3.12.8"
  }
 },
 "nbformat": 4,
 "nbformat_minor": 5
}
