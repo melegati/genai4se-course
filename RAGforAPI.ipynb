{
 "cells": [
  {
   "cell_type": "markdown",
   "id": "53baa48b-2530-4fa1-9cd0-c9ecab806a99",
   "metadata": {},
   "source": [
    "# Retrieval-augmented Generation (RAG)\n",
    "\n",
    "In this example, we will use RAG to generate code based on an external API defined in a Swagger file."
   ]
  },
  {
   "cell_type": "markdown",
   "id": "517c14dd-2053-49ba-ac76-f7b622bbb745",
   "metadata": {},
   "source": [
    "## Dependencies\n",
    "\n",
    "### LangChain\n",
    "\n",
    "Here, we will use the LangChain libraries."
   ]
  },
  {
   "cell_type": "code",
   "execution_count": 1,
   "id": "8cab694e-5cea-4853-b0d8-9e2fc5434ea2",
   "metadata": {},
   "outputs": [
    {
     "name": "stdout",
     "output_type": "stream",
     "text": [
      "Requirement already satisfied: langchain in ./env/lib/python3.12/site-packages (0.3.15)\n",
      "Requirement already satisfied: jq in ./env/lib/python3.12/site-packages (1.8.0)\n",
      "Requirement already satisfied: langchain-community in ./env/lib/python3.12/site-packages (0.3.15)\n",
      "Requirement already satisfied: langchain-openai in ./env/lib/python3.12/site-packages (0.3.2)\n",
      "Requirement already satisfied: PyYAML>=5.3 in ./env/lib/python3.12/site-packages (from langchain) (6.0.2)\n",
      "Requirement already satisfied: SQLAlchemy<3,>=1.4 in ./env/lib/python3.12/site-packages (from langchain) (2.0.37)\n",
      "Requirement already satisfied: aiohttp<4.0.0,>=3.8.3 in ./env/lib/python3.12/site-packages (from langchain) (3.11.11)\n",
      "Requirement already satisfied: langchain-core<0.4.0,>=0.3.31 in ./env/lib/python3.12/site-packages (from langchain) (0.3.31)\n",
      "Requirement already satisfied: langchain-text-splitters<0.4.0,>=0.3.3 in ./env/lib/python3.12/site-packages (from langchain) (0.3.5)\n",
      "Requirement already satisfied: langsmith<0.4,>=0.1.17 in ./env/lib/python3.12/site-packages (from langchain) (0.3.2)\n",
      "Requirement already satisfied: numpy<3,>=1.26.2 in ./env/lib/python3.12/site-packages (from langchain) (2.2.2)\n",
      "Requirement already satisfied: pydantic<3.0.0,>=2.7.4 in ./env/lib/python3.12/site-packages (from langchain) (2.10.6)\n",
      "Requirement already satisfied: requests<3,>=2 in ./env/lib/python3.12/site-packages (from langchain) (2.32.3)\n",
      "Requirement already satisfied: tenacity!=8.4.0,<10,>=8.1.0 in ./env/lib/python3.12/site-packages (from langchain) (9.0.0)\n",
      "Requirement already satisfied: dataclasses-json<0.7,>=0.5.7 in ./env/lib/python3.12/site-packages (from langchain-community) (0.6.7)\n",
      "Requirement already satisfied: httpx-sse<0.5.0,>=0.4.0 in ./env/lib/python3.12/site-packages (from langchain-community) (0.4.0)\n",
      "Requirement already satisfied: pydantic-settings<3.0.0,>=2.4.0 in ./env/lib/python3.12/site-packages (from langchain-community) (2.7.1)\n",
      "Requirement already satisfied: openai<2.0.0,>=1.58.1 in ./env/lib/python3.12/site-packages (from langchain-openai) (1.60.2)\n",
      "Requirement already satisfied: tiktoken<1,>=0.7 in ./env/lib/python3.12/site-packages (from langchain-openai) (0.8.0)\n",
      "Requirement already satisfied: aiohappyeyeballs>=2.3.0 in ./env/lib/python3.12/site-packages (from aiohttp<4.0.0,>=3.8.3->langchain) (2.4.4)\n",
      "Requirement already satisfied: aiosignal>=1.1.2 in ./env/lib/python3.12/site-packages (from aiohttp<4.0.0,>=3.8.3->langchain) (1.3.2)\n",
      "Requirement already satisfied: attrs>=17.3.0 in ./env/lib/python3.12/site-packages (from aiohttp<4.0.0,>=3.8.3->langchain) (25.1.0)\n",
      "Requirement already satisfied: frozenlist>=1.1.1 in ./env/lib/python3.12/site-packages (from aiohttp<4.0.0,>=3.8.3->langchain) (1.5.0)\n",
      "Requirement already satisfied: multidict<7.0,>=4.5 in ./env/lib/python3.12/site-packages (from aiohttp<4.0.0,>=3.8.3->langchain) (6.1.0)\n",
      "Requirement already satisfied: propcache>=0.2.0 in ./env/lib/python3.12/site-packages (from aiohttp<4.0.0,>=3.8.3->langchain) (0.2.1)\n",
      "Requirement already satisfied: yarl<2.0,>=1.17.0 in ./env/lib/python3.12/site-packages (from aiohttp<4.0.0,>=3.8.3->langchain) (1.18.3)\n",
      "Requirement already satisfied: marshmallow<4.0.0,>=3.18.0 in ./env/lib/python3.12/site-packages (from dataclasses-json<0.7,>=0.5.7->langchain-community) (3.26.0)\n",
      "Requirement already satisfied: typing-inspect<1,>=0.4.0 in ./env/lib/python3.12/site-packages (from dataclasses-json<0.7,>=0.5.7->langchain-community) (0.9.0)\n",
      "Requirement already satisfied: jsonpatch<2.0,>=1.33 in ./env/lib/python3.12/site-packages (from langchain-core<0.4.0,>=0.3.31->langchain) (1.33)\n",
      "Requirement already satisfied: packaging<25,>=23.2 in ./env/lib/python3.12/site-packages (from langchain-core<0.4.0,>=0.3.31->langchain) (24.2)\n",
      "Requirement already satisfied: typing-extensions>=4.7 in ./env/lib/python3.12/site-packages (from langchain-core<0.4.0,>=0.3.31->langchain) (4.12.2)\n",
      "Requirement already satisfied: httpx<1,>=0.23.0 in ./env/lib/python3.12/site-packages (from langsmith<0.4,>=0.1.17->langchain) (0.28.1)\n",
      "Requirement already satisfied: orjson<4.0.0,>=3.9.14 in ./env/lib/python3.12/site-packages (from langsmith<0.4,>=0.1.17->langchain) (3.10.15)\n",
      "Requirement already satisfied: requests-toolbelt<2.0.0,>=1.0.0 in ./env/lib/python3.12/site-packages (from langsmith<0.4,>=0.1.17->langchain) (1.0.0)\n",
      "Requirement already satisfied: zstandard<0.24.0,>=0.23.0 in ./env/lib/python3.12/site-packages (from langsmith<0.4,>=0.1.17->langchain) (0.23.0)\n",
      "Requirement already satisfied: anyio<5,>=3.5.0 in ./env/lib/python3.12/site-packages (from openai<2.0.0,>=1.58.1->langchain-openai) (4.8.0)\n",
      "Requirement already satisfied: distro<2,>=1.7.0 in ./env/lib/python3.12/site-packages (from openai<2.0.0,>=1.58.1->langchain-openai) (1.9.0)\n",
      "Requirement already satisfied: jiter<1,>=0.4.0 in ./env/lib/python3.12/site-packages (from openai<2.0.0,>=1.58.1->langchain-openai) (0.8.2)\n",
      "Requirement already satisfied: sniffio in ./env/lib/python3.12/site-packages (from openai<2.0.0,>=1.58.1->langchain-openai) (1.3.1)\n",
      "Requirement already satisfied: tqdm>4 in ./env/lib/python3.12/site-packages (from openai<2.0.0,>=1.58.1->langchain-openai) (4.67.1)\n",
      "Requirement already satisfied: annotated-types>=0.6.0 in ./env/lib/python3.12/site-packages (from pydantic<3.0.0,>=2.7.4->langchain) (0.7.0)\n",
      "Requirement already satisfied: pydantic-core==2.27.2 in ./env/lib/python3.12/site-packages (from pydantic<3.0.0,>=2.7.4->langchain) (2.27.2)\n",
      "Requirement already satisfied: python-dotenv>=0.21.0 in ./env/lib/python3.12/site-packages (from pydantic-settings<3.0.0,>=2.4.0->langchain-community) (1.0.1)\n",
      "Requirement already satisfied: charset-normalizer<4,>=2 in ./env/lib/python3.12/site-packages (from requests<3,>=2->langchain) (3.4.1)\n",
      "Requirement already satisfied: idna<4,>=2.5 in ./env/lib/python3.12/site-packages (from requests<3,>=2->langchain) (3.10)\n",
      "Requirement already satisfied: urllib3<3,>=1.21.1 in ./env/lib/python3.12/site-packages (from requests<3,>=2->langchain) (2.3.0)\n",
      "Requirement already satisfied: certifi>=2017.4.17 in ./env/lib/python3.12/site-packages (from requests<3,>=2->langchain) (2024.12.14)\n",
      "Requirement already satisfied: greenlet!=0.4.17 in ./env/lib/python3.12/site-packages (from SQLAlchemy<3,>=1.4->langchain) (3.1.1)\n",
      "Requirement already satisfied: regex>=2022.1.18 in ./env/lib/python3.12/site-packages (from tiktoken<1,>=0.7->langchain-openai) (2024.11.6)\n",
      "Requirement already satisfied: httpcore==1.* in ./env/lib/python3.12/site-packages (from httpx<1,>=0.23.0->langsmith<0.4,>=0.1.17->langchain) (1.0.7)\n",
      "Requirement already satisfied: h11<0.15,>=0.13 in ./env/lib/python3.12/site-packages (from httpcore==1.*->httpx<1,>=0.23.0->langsmith<0.4,>=0.1.17->langchain) (0.14.0)\n",
      "Requirement already satisfied: jsonpointer>=1.9 in ./env/lib/python3.12/site-packages (from jsonpatch<2.0,>=1.33->langchain-core<0.4.0,>=0.3.31->langchain) (3.0.0)\n",
      "Requirement already satisfied: mypy-extensions>=0.3.0 in ./env/lib/python3.12/site-packages (from typing-inspect<1,>=0.4.0->dataclasses-json<0.7,>=0.5.7->langchain-community) (1.0.0)\n"
     ]
    }
   ],
   "source": [
    "import sys\n",
    "!{sys.executable} -m pip install langchain jq langchain-community langchain-openai"
   ]
  },
  {
   "cell_type": "markdown",
   "id": "b1ffcc4f-64c8-4b21-ae3f-4b10ee018cfd",
   "metadata": {},
   "source": [
    "### Model\n",
    "\n",
    "We will use OpenAI's models, so we need an API key.\n"
   ]
  },
  {
   "cell_type": "code",
   "execution_count": 2,
   "id": "3426e6f6-43e1-4637-9900-6bde98ef1d60",
   "metadata": {},
   "outputs": [
    {
     "name": "stdin",
     "output_type": "stream",
     "text": [
      "Enter API key for OpenAI:  ········\n"
     ]
    }
   ],
   "source": [
    "import getpass\n",
    "import os\n",
    "\n",
    "if not os.environ.get(\"OPENAI_API_KEY\"):\n",
    "  os.environ[\"OPENAI_API_KEY\"] = getpass.getpass(\"Enter API key for OpenAI: \")"
   ]
  },
  {
   "cell_type": "markdown",
   "id": "8e5cb2e6-5460-4f06-925a-f3853ff44e16",
   "metadata": {},
   "source": [
    "## Retrieval\n",
    "\n",
    "First, we have to load the documents that will be stored in the database.\n",
    "\n",
    "To this aim, we will read the JSON file describing the API."
   ]
  },
  {
   "cell_type": "code",
   "execution_count": 4,
   "id": "dc183618-6a17-42fb-8381-1b72544e96d3",
   "metadata": {},
   "outputs": [
    {
     "name": "stdout",
     "output_type": "stream",
     "text": [
      "https://tourism.api.opendatahub.com\n"
     ]
    }
   ],
   "source": [
    "from langchain_community.document_loaders import JSONLoader\n",
    "import json\n",
    "from pathlib import Path\n",
    "import jq\n",
    "\n",
    "file_path='./opendatahub.json'\n",
    "\n",
    "with open(file_path) as f:\n",
    "    data = json.load(f)\n",
    "    api_url = jq.compile('.servers[0].url').input(data).first()\n",
    "    print(api_url)\n",
    "\n",
    "loader = JSONLoader(\n",
    "         file_path=file_path,\n",
    "         jq_schema='.paths | to_entries[] | .key as $path | .value | to_entries[] | { path:$path, method:.key, tag:.value.tags[0], summary:.value.summary, parameters: [ {name: .value.parameters[]?.name } ] }',\n",
    "         text_content=False)\n",
    "\n",
    "docs = loader.load()"
   ]
  },
  {
   "cell_type": "markdown",
   "id": "2883fd6c-e9fa-4f88-b0b0-b03ca110e05b",
   "metadata": {},
   "source": [
    "Checking the number of documents:"
   ]
  },
  {
   "cell_type": "code",
   "execution_count": 5,
   "id": "86101c3b-c6e7-4e64-9397-35aad2b42639",
   "metadata": {},
   "outputs": [
    {
     "data": {
      "text/plain": [
       "152"
      ]
     },
     "execution_count": 5,
     "metadata": {},
     "output_type": "execute_result"
    }
   ],
   "source": [
    "len(docs)"
   ]
  },
  {
   "cell_type": "markdown",
   "id": "95943838-cd2f-4538-acfc-3a9b578ac52d",
   "metadata": {},
   "source": [
    "Let's check the first document to take a look on it."
   ]
  },
  {
   "cell_type": "code",
   "execution_count": 6,
   "id": "41c863df-c679-419e-9439-7a16b2232836",
   "metadata": {},
   "outputs": [
    {
     "data": {
      "text/plain": [
       "Document(metadata={'source': '/Users/user/Projects/genai4se-course/opendatahub.json', 'seq_num': 2}, page_content='{\"path\": \"/v1/Accommodation\", \"method\": \"post\", \"tag\": \"Accommodation\", \"summary\": \"POST Insert new Accommodation\", \"parameters\": []}')"
      ]
     },
     "execution_count": 6,
     "metadata": {},
     "output_type": "execute_result"
    }
   ],
   "source": [
    "docs[1]"
   ]
  },
  {
   "cell_type": "markdown",
   "id": "bb77f7e9-d706-43a3-9f09-6950ddb0a1ac",
   "metadata": {},
   "source": [
    "Let's use OpenAI's text-embedding-3-large model for creating the embeddings. "
   ]
  },
  {
   "cell_type": "code",
   "execution_count": 7,
   "id": "c66b6d94-584a-4990-8d83-7ba39bd69203",
   "metadata": {},
   "outputs": [],
   "source": [
    "from langchain_openai import OpenAIEmbeddings\n",
    "\n",
    "embeddings = OpenAIEmbeddings(model=\"text-embedding-3-large\")"
   ]
  },
  {
   "cell_type": "markdown",
   "id": "4baa7276-cc25-43c4-8e4b-5ae1d38fd4cf",
   "metadata": {},
   "source": [
    "For this didactic example, we will use the LangChain's InMemoryVectorStore. According to the [documentation](https://python.langchain.com/api_reference/core/vectorstores/langchain_core.vectorstores.in_memory.InMemoryVectorStore.html), it uses a dictionary and the similarity is calculated using cosine similarity."
   ]
  },
  {
   "cell_type": "code",
   "execution_count": 8,
   "id": "554795e1-c45a-48ad-8feb-660c04443d0f",
   "metadata": {},
   "outputs": [],
   "source": [
    "from langchain_core.vectorstores import InMemoryVectorStore\n",
    "\n",
    "vector_store = InMemoryVectorStore(embeddings)"
   ]
  },
  {
   "cell_type": "markdown",
   "id": "66ca9e8d-c92d-482e-bd20-2ecefd2ee6db",
   "metadata": {},
   "source": [
    "Now let's add the documents to the vector store. In this process, the embeddings are calculated using the defined model."
   ]
  },
  {
   "cell_type": "code",
   "execution_count": 9,
   "id": "f0dfeb4f-ea9f-4251-a487-29131e767719",
   "metadata": {},
   "outputs": [
    {
     "data": {
      "text/plain": [
       "['bdb95d39-ee29-472f-ab10-60dbbc795f13',\n",
       " 'b6dd174f-7bf2-494e-8cbe-3fe5ba8ce9e8',\n",
       " 'c37710fe-4063-4d2b-a0a5-e5ab7e84c9cb',\n",
       " 'c85c8018-47dd-4cb1-9454-90cc2fb15cc7',\n",
       " '88aa9c64-ec2d-48c2-beb9-d0f0d8fc4bdf',\n",
       " '3647abc8-0cdd-4686-a129-c71deda89389',\n",
       " '4aa339f0-3487-4b9a-8d7b-1d3a853de7eb',\n",
       " '5ead2d67-1675-4a06-8d7f-6b67cad92c8c',\n",
       " 'cd861860-08ef-40f5-b4e2-448095e7d769',\n",
       " 'f20f9137-2ed0-4b36-81b2-c564a764d9f0',\n",
       " 'ec3841dd-08ee-484a-8c25-10d242faeeb4',\n",
       " '551fde91-8a52-498a-87b2-cec94d886a2c',\n",
       " '728963d3-dd8b-446e-ae6e-a7a0d0e985cc',\n",
       " '28d9dde5-4307-403f-92d1-1720786c3419',\n",
       " 'c6543bff-f730-46a3-9d65-0dfa679db17a',\n",
       " 'fc44ec4c-1e67-4673-b170-9b16fa847a7a',\n",
       " '4f2193e9-e1dc-47a0-8671-95ea378d35f4',\n",
       " '720de197-eca2-4d5b-a5ea-c1521eefe855',\n",
       " '737ca9ef-4442-4212-8a9b-e1ec13ed4455',\n",
       " 'a57e12fc-3a73-41f3-9360-a702ed746cee',\n",
       " '6706f4d1-4d91-4e55-ac64-a663ef3d7d42',\n",
       " '654151e7-0af3-4425-bd50-533e56a77d81',\n",
       " 'a4e540a6-53a1-46ce-b426-110bf04ff1c0',\n",
       " '98e7a656-cf0e-47a6-96e1-630dc27b176f',\n",
       " '88293acf-da0a-433c-88d8-f344fe29c9a6',\n",
       " '11d66660-da6e-4ba5-a432-d941f6129581',\n",
       " '10470b5a-cfa7-4535-8f26-02696a5a15ad',\n",
       " '4d6494ea-19d1-42dc-8458-f1c12a4933ba',\n",
       " '19483a33-3225-4727-88c5-e6810d8024f2',\n",
       " 'e94bd9c1-3e5d-4ee8-99e1-90bd630fae5f',\n",
       " '6acd83f5-d280-46c3-ae8e-24a0ba217f1e',\n",
       " '017c0c15-32dd-49ac-8b32-cfcbcb93c0dd',\n",
       " '870ae6d4-7795-4d5b-a7a3-5b992e8df407',\n",
       " '0ec6e837-1872-485f-8d74-26599171db1f',\n",
       " '7cddda35-95a6-4b46-8c73-73beac86a8ba',\n",
       " '94c8a76d-857f-405b-a054-d8805b5b2f02',\n",
       " '1eda1b12-b2d3-4d4e-a187-0b3243941306',\n",
       " '9dae897b-77bb-426a-80fc-f2034c641ffa',\n",
       " 'f97e1644-a8e3-4225-b8ee-ab28e7c4a255',\n",
       " '0e97ef1e-f3da-4cce-acca-735df8a19d25',\n",
       " 'c43563e0-878d-4174-825a-2f49509f67b0',\n",
       " 'ac73c9cf-6f21-4fa3-afe8-817ec4697644',\n",
       " '6ff85beb-a2d6-4890-8030-4e19387d09d5',\n",
       " '54bea074-397c-4ee7-b708-b44c77b607bb',\n",
       " 'bea41620-93a1-4a5e-bde3-e0d2cc4d9036',\n",
       " 'a2b9f417-9147-49d9-aa2b-df3558995194',\n",
       " 'b18a84c0-e323-4f16-91e6-7387ff914873',\n",
       " 'fc779702-72ae-4510-bc3a-28a8d817cdaf',\n",
       " '6ec83f21-2865-488e-8e45-5abba6c106f2',\n",
       " '037b49b3-df44-4a04-a6d3-4fb712dc8c26',\n",
       " '9252b12f-327b-4a94-b92f-d320a37f3790',\n",
       " '0024adfe-a2a9-4218-ae79-5d76ccd08524',\n",
       " 'b6195b73-9126-416e-87da-698e8a14135c',\n",
       " '69fb29bc-e717-47ba-8902-69d1e4d5b296',\n",
       " '5c04159e-a72e-4046-a096-f8bc90e52816',\n",
       " '524654aa-6295-47b9-9fc6-0d4b9bc42d01',\n",
       " 'fd0d9a32-673a-46e2-b7e9-292e1e499f2c',\n",
       " 'cd0628db-40f5-4c9b-9d4b-3a47f71ff898',\n",
       " '1c9c50ec-47bc-44d0-b330-48ec7c674fa4',\n",
       " '28f6379d-8b20-4ad6-a484-a5865ca010b1',\n",
       " '29220a60-2b26-4e91-a103-f91a46557a06',\n",
       " '90fdbb02-db28-4b4a-a209-6449398ef9b7',\n",
       " '70f2c3b2-b5a8-49fa-9a62-70ff60d96220',\n",
       " '7afe009f-9e1d-44bc-ab5a-190fefabbdf0',\n",
       " 'bc44745f-d4d9-4f79-a3bf-fcd202596ddc',\n",
       " '832cbcfe-fd61-48c9-a89d-3ebcab96ca8f',\n",
       " '90c9aa34-7395-4361-9ff6-0ea890338e67',\n",
       " 'ec1688b0-6d93-406d-839a-b91de18115d1',\n",
       " '4700eaf1-56a8-4261-b6c0-a371efcf2ec1',\n",
       " 'f6d5faec-ae02-442f-bfbb-01e49f585da9',\n",
       " '8685d820-5932-49af-a3e3-41fb50d5dfb3',\n",
       " '23214c6d-6952-4f94-8e46-2dc028a56092',\n",
       " 'a2b06527-c7be-4999-a9ef-c459dd484971',\n",
       " 'af93e610-c8d4-4e7d-a71d-d8f29895ccf9',\n",
       " 'a7872d06-91eb-4198-9975-8893a4110f77',\n",
       " '3c72307d-114a-4297-9806-e5d85e7d7e03',\n",
       " '28f11e9a-bf3d-4b30-91db-018cbdc5c9e9',\n",
       " '5406b04d-2547-40fb-b89c-a2d5ad25f280',\n",
       " '0affec0c-20d3-46bd-a11a-3d0963c8b848',\n",
       " '6304015e-e9f5-4f71-be60-9c126b094e1e',\n",
       " '6e880c88-f8db-4571-bb47-5b833d3b6aaf',\n",
       " '030bd371-cff2-4781-934a-48935b6ffc75',\n",
       " 'a01ab85b-182d-4858-82f7-4a43f8ccb97c',\n",
       " '652760d5-88c7-46a9-aab1-d95b47b72ff6',\n",
       " '56b037d8-1823-4660-940a-ba1eb37e11d9',\n",
       " 'c3b1de68-00d7-4d11-b31c-9cd5d659cc9a',\n",
       " 'c7c12b5e-6c45-48b8-beb5-e4a8ba3ce8a7',\n",
       " 'bebdf27e-81ea-4a79-8f8f-83b0a2e7a24f',\n",
       " '9eed8832-1183-4253-9b2b-8183c69b9e9e',\n",
       " '904b6e59-edec-416f-8bd9-8ddad92677cf',\n",
       " '8eed9a68-d694-40ed-80cc-8ec34707ad0b',\n",
       " '3a6b908f-0dab-4ae9-b5eb-e765236c33a6',\n",
       " '12e3b05c-b23b-4402-96d8-9a221222ab4d',\n",
       " '3a45e4a8-39d8-4aeb-84b0-3ed17c0dc083',\n",
       " '4af2d17b-e977-4605-9af5-678dbf4e4fdd',\n",
       " '8a3467b4-a7cb-4ad5-a8fa-9991826b4565',\n",
       " '3777afcc-9036-47d8-8860-3c2417daf2c2',\n",
       " '821b7d57-56b0-4a8f-b7c7-7e1fdbad5c74',\n",
       " 'e5420b50-3989-4dd8-84a0-576ad2060cc9',\n",
       " '907f697c-7b9c-4cea-a12e-36eb0ad750b6',\n",
       " '0e3e4e49-5c78-4856-b637-7014112189bd',\n",
       " '36f57f8a-2cc7-4961-b82b-78df755d737d',\n",
       " 'eabdb995-11fb-4b5c-a7ab-342d7090f8ec',\n",
       " '88d5cbe4-419e-476c-ac98-c73e8b017b76',\n",
       " '28dc6721-63ff-461f-b8f2-be9444c6e816',\n",
       " '9bf4d08e-ad11-4342-a63f-293333d4709b',\n",
       " 'fe6c06af-1ffe-4ee8-bde2-f520c5b6e98b',\n",
       " '5a5abf23-09f7-48c9-9881-c6f85e2778c1',\n",
       " 'b35db2dd-bda2-4292-a951-56ea030dfc64',\n",
       " '57158b41-c7bb-4a24-a4c8-c1bb7efd0ea5',\n",
       " '4dd19b1f-b67f-4ee8-89d1-5d7494a4b5e8',\n",
       " 'c65fe15d-29d0-4f28-8275-a61cb860d783',\n",
       " '0ec8cb91-ceae-45fc-8952-fcfdc1988959',\n",
       " 'b25d7924-4d74-4e69-8ce7-4bf5b8725c45',\n",
       " '4f415b8f-bafe-4806-b31a-1e1fb3f7946b',\n",
       " '91357083-7336-4786-8102-eadc482c80ca',\n",
       " '52f1b6ef-5dd6-4ff0-a483-1961046a07ef',\n",
       " '95f0e660-ed06-4d49-a979-f92dd2ced504',\n",
       " '789fc201-5f7c-4b2e-93f3-78e2836892d2',\n",
       " 'b4f955de-8cf0-4479-9fd8-330a5a223b59',\n",
       " 'a0a8364f-13ce-41dc-a95f-e2b4c9920586',\n",
       " '294ff533-a683-4ba1-a2e5-6e7f3c036ece',\n",
       " 'eb4a4848-7220-4b49-8375-73c1453f5ee1',\n",
       " '1eda6ad8-e302-46e1-a2f8-adab7b6aafe7',\n",
       " '8ad8e40e-16da-44a7-b4a1-c4d8b7f21a75',\n",
       " '3ddc2bc5-fd0c-49c6-96dc-50f6e5a285eb',\n",
       " '1ecd7256-ef6a-47ee-89eb-1413da746a35',\n",
       " 'dbc4f502-c8bb-447b-beaa-8923b11b522a',\n",
       " '07d80a3f-ea82-46d6-830e-e768738aa8e0',\n",
       " 'd94a7e55-05fa-4fb9-80e9-a4839c9042a2',\n",
       " '4112cd7f-4320-4458-b53f-b65aa63037ef',\n",
       " '5f83a548-36fe-46fc-895f-b70cd2d4febb',\n",
       " 'f10a4771-57b4-4a56-a44b-ea90be92a575',\n",
       " '05f9b92e-397a-42b0-bbcc-dc9e2cd99a47',\n",
       " 'ba826fb5-65c2-46db-bd55-729daacbc667',\n",
       " '81f9c5c4-1e2f-4188-814c-8eeff9012c76',\n",
       " '17f1a42a-eadb-41a7-ab08-90a3ca24c91f',\n",
       " '452e5552-94be-4ccc-bc2d-80fbf417dcd5',\n",
       " '69e1f381-06dc-42ee-8501-38bea39eda5b',\n",
       " '5607e3b8-6726-41c3-b4c7-3893a4b903f5',\n",
       " 'c6f0aa00-d3e1-4753-9306-eeae5cc7280b',\n",
       " '0727f16e-85d7-4824-92a7-ab6a6ad08d70',\n",
       " '284a3351-4078-4734-934e-1597d5ca1f95',\n",
       " '3ad1f478-9263-4c6c-808a-6b988f65ddd2',\n",
       " '3f65762d-6b44-4599-8b16-74932f1993f6',\n",
       " '8774cb6e-7003-425a-9e6a-a4a518eef660',\n",
       " 'a57515a6-db71-4a7f-9156-3d13c672a4ac',\n",
       " '21f0369d-7682-4b69-8824-b43202bae956',\n",
       " 'a409e07e-1394-4a58-ac49-0019634afae5',\n",
       " 'd9591545-199d-4c53-ad32-19a5c7761117',\n",
       " '6404076e-f916-401c-a432-5eaee72437aa',\n",
       " '59633b7c-555a-4331-925c-7c749d61ad5c']"
      ]
     },
     "execution_count": 9,
     "metadata": {},
     "output_type": "execute_result"
    }
   ],
   "source": [
    "vector_store.add_documents(documents=docs)"
   ]
  },
  {
   "cell_type": "markdown",
   "id": "d6d08e47-1e5b-43dd-b932-b6bf7bd251d3",
   "metadata": {},
   "source": [
    "Let's create a function to retrieve the relevant documents given the text definition of a task."
   ]
  },
  {
   "cell_type": "code",
   "execution_count": 10,
   "id": "05f03c13-9c08-448d-9794-2ea08651e919",
   "metadata": {},
   "outputs": [],
   "source": [
    "def retrieve(task):\n",
    "    retrieved_docs = vector_store.similarity_search(task)\n",
    "    return \"\\n\\n\".join(doc.page_content for doc in retrieved_docs)"
   ]
  },
  {
   "cell_type": "markdown",
   "id": "7fccf430-23e0-4384-9383-879e4273c228",
   "metadata": {},
   "source": [
    "Let's check if it works:"
   ]
  },
  {
   "cell_type": "code",
   "execution_count": 11,
   "id": "88e34dca-76b5-4c31-82b9-e7d2e9baac6a",
   "metadata": {},
   "outputs": [
    {
     "data": {
      "text/plain": [
       "'{\"path\": \"/v1/EventShort\", \"method\": \"get\", \"tag\": \"EventShort\", \"summary\": \"GET EventShort List\", \"parameters\": [{\"name\": \"pagenumber\"}, {\"name\": \"pagesize\"}, {\"name\": \"startdate\"}, {\"name\": \"enddate\"}, {\"name\": \"datetimeformat\"}, {\"name\": \"source\"}, {\"name\": \"eventlocation\"}, {\"name\": \"onlyactive\"}, {\"name\": \"websiteactive\"}, {\"name\": \"communityactive\"}, {\"name\": \"active\"}, {\"name\": \"eventids\"}, {\"name\": \"webaddress\"}, {\"name\": \"sortorder\"}, {\"name\": \"seed\"}, {\"name\": \"language\"}, {\"name\": \"langfilter\"}, {\"name\": \"optimizedates\"}, {\"name\": \"latitude\"}, {\"name\": \"longitude\"}, {\"name\": \"radius\"}, {\"name\": \"polygon\"}, {\"name\": \"fields\"}, {\"name\": \"lastchange\"}, {\"name\": \"publishedon\"}, {\"name\": \"searchfilter\"}, {\"name\": \"rawfilter\"}, {\"name\": \"rawsort\"}, {\"name\": \"removenullvalues\"}]}\\n\\n{\"path\": \"/v1/Event\", \"method\": \"get\", \"tag\": \"Event\", \"summary\": \"GET Event List\", \"parameters\": [{\"name\": \"language\"}, {\"name\": \"pagenumber\"}, {\"name\": \"pagesize\"}, {\"name\": \"idlist\"}, {\"name\": \"locfilter\"}, {\"name\": \"rancfilter\"}, {\"name\": \"topicfilter\"}, {\"name\": \"orgfilter\"}, {\"name\": \"odhtagfilter\"}, {\"name\": \"active\"}, {\"name\": \"odhactive\"}, {\"name\": \"begindate\"}, {\"name\": \"enddate\"}, {\"name\": \"sort\"}, {\"name\": \"updatefrom\"}, {\"name\": \"seed\"}, {\"name\": \"publishedon\"}, {\"name\": \"langfilter\"}, {\"name\": \"source\"}, {\"name\": \"latitude\"}, {\"name\": \"longitude\"}, {\"name\": \"radius\"}, {\"name\": \"polygon\"}, {\"name\": \"fields\"}, {\"name\": \"searchfilter\"}, {\"name\": \"rawfilter\"}, {\"name\": \"rawsort\"}, {\"name\": \"removenullvalues\"}]}\\n\\n{\"path\": \"/v2/Event\", \"method\": \"get\", \"tag\": \"EventV2\", \"summary\": \"GET Event List\", \"parameters\": [{\"name\": \"language\"}, {\"name\": \"pagenumber\"}, {\"name\": \"pagesize\"}, {\"name\": \"idlist\"}, {\"name\": \"venueidfilter\"}, {\"name\": \"locfilter\"}, {\"name\": \"tagfilter\"}, {\"name\": \"active\"}, {\"name\": \"begindate\"}, {\"name\": \"enddate\"}, {\"name\": \"sort\"}, {\"name\": \"updatefrom\"}, {\"name\": \"seed\"}, {\"name\": \"publishedon\"}, {\"name\": \"langfilter\"}, {\"name\": \"source\"}, {\"name\": \"latitude\"}, {\"name\": \"longitude\"}, {\"name\": \"radius\"}, {\"name\": \"fields\"}, {\"name\": \"searchfilter\"}, {\"name\": \"rawfilter\"}, {\"name\": \"rawsort\"}, {\"name\": \"removenullvalues\"}]}\\n\\n{\"path\": \"/v1/EventShort/GetbyRoomBooked\", \"method\": \"get\", \"tag\": \"EventShort\", \"summary\": \"GET EventShort List by Room Occupation\", \"parameters\": [{\"name\": \"startdate\"}, {\"name\": \"enddate\"}, {\"name\": \"datetimeformat\"}, {\"name\": \"source\"}, {\"name\": \"eventlocation\"}, {\"name\": \"onlyactive\"}, {\"name\": \"websiteactive\"}, {\"name\": \"communityactive\"}, {\"name\": \"active\"}, {\"name\": \"eventids\"}, {\"name\": \"webaddress\"}, {\"name\": \"language\"}, {\"name\": \"langfilter\"}, {\"name\": \"lastchange\"}, {\"name\": \"updatefrom\"}, {\"name\": \"publishedon\"}, {\"name\": \"fields\"}, {\"name\": \"searchfilter\"}, {\"name\": \"rawfilter\"}, {\"name\": \"rawsort\"}, {\"name\": \"removenullvalues\"}]}'"
      ]
     },
     "execution_count": 11,
     "metadata": {},
     "output_type": "execute_result"
    }
   ],
   "source": [
    "task = \"Write a piece of code to list the events in the last year.\"\n",
    "retrieve(task)"
   ]
  },
  {
   "cell_type": "markdown",
   "id": "dabd480e-3404-459f-bdf2-fde9a99d0c23",
   "metadata": {},
   "source": [
    "## Generation\n",
    "\n",
    "Let's use OpenAI's GPT-4o-mini to generate the answer."
   ]
  },
  {
   "cell_type": "code",
   "execution_count": 12,
   "id": "d3659189-0779-4b77-8c91-b161673e2851",
   "metadata": {},
   "outputs": [],
   "source": [
    "from langchain_core.prompts import ChatPromptTemplate\n",
    "from langchain_openai import ChatOpenAI\n",
    "\n",
    "\n",
    "llm = ChatOpenAI(model=\"gpt-4o-mini\")"
   ]
  },
  {
   "cell_type": "markdown",
   "id": "d6523b70-c4da-4b6b-aff6-d25c6cac820b",
   "metadata": {},
   "source": [
    "Here we define the prompt template, leaving the space for information retrieved about the API and the task. We also add the information about the API url so the generated code will be runnable. Let's save the result in a Python file."
   ]
  },
  {
   "cell_type": "code",
   "execution_count": 18,
   "id": "e2989fc5-096c-48b8-a77d-43b4779873d9",
   "metadata": {},
   "outputs": [],
   "source": [
    "def generate(task, api_info, api_url):\n",
    "\n",
    "    prompt_template = ChatPromptTemplate([\n",
    "        (\"system\", \"You are a developer using an API to implement a solution in Python.\"),\n",
    "        (\"user\", \"Below, there is the information about the API you need to use {apiInfo}. Your task is: {task}. Just return the code without anything else. The API URL is {apiUrl}\")\n",
    "    ]) \n",
    "    \n",
    "    prompt = prompt_template.invoke({\"apiInfo\": api_info, \"task\": task, \"apiUrl\": api_url})\n",
    "    answer = llm.invoke(prompt)\n",
    "    result = answer.content\n",
    "    \n",
    "    answer.pretty_print()\n",
    "    \n",
    "    if \"```python\" in result:\n",
    "            result = result[10:-3]\n",
    "    \n",
    "    output_path = \"output/main.py\"\n",
    "    with open(output_path, \"w\") as f:\n",
    "        f.write(result)"
   ]
  },
  {
   "cell_type": "code",
   "execution_count": 19,
   "id": "ae58ab74-5780-4686-add3-9c01b57a62e0",
   "metadata": {},
   "outputs": [
    {
     "name": "stdout",
     "output_type": "stream",
     "text": [
      "==================================\u001b[1m Ai Message \u001b[0m==================================\n",
      "\n",
      "```python\n",
      "import requests\n",
      "from datetime import datetime, timedelta\n",
      "\n",
      "# Define the API URL\n",
      "api_url = \"https://tourism.api.opendatahub.com/v1/EventShort\"\n",
      "\n",
      "# Calculate the date range for the last year\n",
      "end_date = datetime.now()\n",
      "start_date = end_date - timedelta(days=365)\n",
      "\n",
      "# Format the dates\n",
      "start_date_str = start_date.strftime('%Y-%m-%d')\n",
      "end_date_str = end_date.strftime('%Y-%m-%d')\n",
      "\n",
      "# Define the parameters\n",
      "params = {\n",
      "    \"startdate\": start_date_str,\n",
      "    \"enddate\": end_date_str,\n",
      "    \"onlyactive\": \"true\",\n",
      "    \"pagesize\": 100,\n",
      "    \"pagenumber\": 1\n",
      "}\n",
      "\n",
      "# Make the GET request\n",
      "response = requests.get(api_url, params=params)\n",
      "\n",
      "# Check the response status\n",
      "if response.status_code == 200:\n",
      "    events = response.json()\n",
      "    print(events)\n",
      "else:\n",
      "    print(f\"Error: {response.status_code}, {response.text}\")\n",
      "```\n"
     ]
    }
   ],
   "source": [
    "api_info = retrieve(task)\n",
    "generate(task, api_info, api_url)"
   ]
  },
  {
   "cell_type": "code",
   "execution_count": null,
   "id": "3857caf8-ca29-4008-8a32-8d6d43e83574",
   "metadata": {},
   "outputs": [],
   "source": []
  }
 ],
 "metadata": {
  "kernelspec": {
   "display_name": "gen4ai-course",
   "language": "python",
   "name": "gen4ai-course"
  },
  "language_info": {
   "codemirror_mode": {
    "name": "ipython",
    "version": 3
   },
   "file_extension": ".py",
   "mimetype": "text/x-python",
   "name": "python",
   "nbconvert_exporter": "python",
   "pygments_lexer": "ipython3",
   "version": "3.12.8"
  }
 },
 "nbformat": 4,
 "nbformat_minor": 5
}
