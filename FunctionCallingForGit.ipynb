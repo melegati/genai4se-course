{
 "cells": [
  {
   "cell_type": "code",
   "execution_count": 19,
   "id": "5b4f7765-d1d6-4aad-8ba6-160751c0d6dc",
   "metadata": {},
   "outputs": [
    {
     "name": "stdout",
     "output_type": "stream",
     "text": [
      "Requirement already satisfied: GitPython in ./env/lib/python3.12/site-packages (3.1.44)\n",
      "Requirement already satisfied: langchain-openai in ./env/lib/python3.12/site-packages (0.3.2)\n",
      "Requirement already satisfied: langchain-core in ./env/lib/python3.12/site-packages (0.3.31)\n",
      "Requirement already satisfied: gitdb<5,>=4.0.1 in ./env/lib/python3.12/site-packages (from GitPython) (4.0.12)\n",
      "Requirement already satisfied: openai<2.0.0,>=1.58.1 in ./env/lib/python3.12/site-packages (from langchain-openai) (1.60.2)\n",
      "Requirement already satisfied: tiktoken<1,>=0.7 in ./env/lib/python3.12/site-packages (from langchain-openai) (0.8.0)\n",
      "Requirement already satisfied: PyYAML>=5.3 in ./env/lib/python3.12/site-packages (from langchain-core) (6.0.2)\n",
      "Requirement already satisfied: jsonpatch<2.0,>=1.33 in ./env/lib/python3.12/site-packages (from langchain-core) (1.33)\n",
      "Requirement already satisfied: langsmith<0.4,>=0.1.125 in ./env/lib/python3.12/site-packages (from langchain-core) (0.3.2)\n",
      "Requirement already satisfied: packaging<25,>=23.2 in ./env/lib/python3.12/site-packages (from langchain-core) (24.2)\n",
      "Requirement already satisfied: pydantic<3.0.0,>=2.7.4 in ./env/lib/python3.12/site-packages (from langchain-core) (2.10.6)\n",
      "Requirement already satisfied: tenacity!=8.4.0,<10.0.0,>=8.1.0 in ./env/lib/python3.12/site-packages (from langchain-core) (9.0.0)\n",
      "Requirement already satisfied: typing-extensions>=4.7 in ./env/lib/python3.12/site-packages (from langchain-core) (4.12.2)\n",
      "Requirement already satisfied: smmap<6,>=3.0.1 in ./env/lib/python3.12/site-packages (from gitdb<5,>=4.0.1->GitPython) (5.0.2)\n",
      "Requirement already satisfied: jsonpointer>=1.9 in ./env/lib/python3.12/site-packages (from jsonpatch<2.0,>=1.33->langchain-core) (3.0.0)\n",
      "Requirement already satisfied: httpx<1,>=0.23.0 in ./env/lib/python3.12/site-packages (from langsmith<0.4,>=0.1.125->langchain-core) (0.28.1)\n",
      "Requirement already satisfied: orjson<4.0.0,>=3.9.14 in ./env/lib/python3.12/site-packages (from langsmith<0.4,>=0.1.125->langchain-core) (3.10.15)\n",
      "Requirement already satisfied: requests<3,>=2 in ./env/lib/python3.12/site-packages (from langsmith<0.4,>=0.1.125->langchain-core) (2.32.3)\n",
      "Requirement already satisfied: requests-toolbelt<2.0.0,>=1.0.0 in ./env/lib/python3.12/site-packages (from langsmith<0.4,>=0.1.125->langchain-core) (1.0.0)\n",
      "Requirement already satisfied: zstandard<0.24.0,>=0.23.0 in ./env/lib/python3.12/site-packages (from langsmith<0.4,>=0.1.125->langchain-core) (0.23.0)\n",
      "Requirement already satisfied: anyio<5,>=3.5.0 in ./env/lib/python3.12/site-packages (from openai<2.0.0,>=1.58.1->langchain-openai) (4.8.0)\n",
      "Requirement already satisfied: distro<2,>=1.7.0 in ./env/lib/python3.12/site-packages (from openai<2.0.0,>=1.58.1->langchain-openai) (1.9.0)\n",
      "Requirement already satisfied: jiter<1,>=0.4.0 in ./env/lib/python3.12/site-packages (from openai<2.0.0,>=1.58.1->langchain-openai) (0.8.2)\n",
      "Requirement already satisfied: sniffio in ./env/lib/python3.12/site-packages (from openai<2.0.0,>=1.58.1->langchain-openai) (1.3.1)\n",
      "Requirement already satisfied: tqdm>4 in ./env/lib/python3.12/site-packages (from openai<2.0.0,>=1.58.1->langchain-openai) (4.67.1)\n",
      "Requirement already satisfied: annotated-types>=0.6.0 in ./env/lib/python3.12/site-packages (from pydantic<3.0.0,>=2.7.4->langchain-core) (0.7.0)\n",
      "Requirement already satisfied: pydantic-core==2.27.2 in ./env/lib/python3.12/site-packages (from pydantic<3.0.0,>=2.7.4->langchain-core) (2.27.2)\n",
      "Requirement already satisfied: regex>=2022.1.18 in ./env/lib/python3.12/site-packages (from tiktoken<1,>=0.7->langchain-openai) (2024.11.6)\n",
      "Requirement already satisfied: idna>=2.8 in ./env/lib/python3.12/site-packages (from anyio<5,>=3.5.0->openai<2.0.0,>=1.58.1->langchain-openai) (3.10)\n",
      "Requirement already satisfied: certifi in ./env/lib/python3.12/site-packages (from httpx<1,>=0.23.0->langsmith<0.4,>=0.1.125->langchain-core) (2024.12.14)\n",
      "Requirement already satisfied: httpcore==1.* in ./env/lib/python3.12/site-packages (from httpx<1,>=0.23.0->langsmith<0.4,>=0.1.125->langchain-core) (1.0.7)\n",
      "Requirement already satisfied: h11<0.15,>=0.13 in ./env/lib/python3.12/site-packages (from httpcore==1.*->httpx<1,>=0.23.0->langsmith<0.4,>=0.1.125->langchain-core) (0.14.0)\n",
      "Requirement already satisfied: charset-normalizer<4,>=2 in ./env/lib/python3.12/site-packages (from requests<3,>=2->langsmith<0.4,>=0.1.125->langchain-core) (3.4.1)\n",
      "Requirement already satisfied: urllib3<3,>=1.21.1 in ./env/lib/python3.12/site-packages (from requests<3,>=2->langsmith<0.4,>=0.1.125->langchain-core) (2.3.0)\n"
     ]
    }
   ],
   "source": [
    "import sys\n",
    "!{sys.executable} -m pip install GitPython langchain-openai langchain-core"
   ]
  },
  {
   "cell_type": "code",
   "execution_count": 13,
   "id": "a26d9705-6d0b-42e1-86a8-114696e6aa5a",
   "metadata": {},
   "outputs": [],
   "source": [
    "from datetime import date\n",
    "from typing import List\n",
    "from langchain_core.tools import tool\n",
    "from git import Git\n",
    "\n",
    "repo_directory = './defects4j'\n",
    "\n",
    "@tool\n",
    "def list_commits_between(start_date: date, end_date: date) -> str:\n",
    "    \"\"\" Returns the messages of the commits from an interval between dates.\n",
    "    Args:\n",
    "        start_date: The start of the interval.\n",
    "        end_date: The end of the date.\n",
    "    \"\"\"\n",
    "    repo = Git(repo_directory)\n",
    "    logs = repo.log('--since={}'.format(start_date), '--until={}'.format(end_date), '--oneline')\n",
    "    return logs"
   ]
  },
  {
   "cell_type": "code",
   "execution_count": 4,
   "id": "91f612f9-8495-48c9-8013-acc4b0880fb5",
   "metadata": {},
   "outputs": [],
   "source": [
    "import getpass\n",
    "import os\n",
    "\n",
    "if not os.environ.get(\"OPENAI_API_KEY\"):\n",
    "  os.environ[\"OPENAI_API_KEY\"] = getpass.getpass(\"Enter API key for OpenAI: \")"
   ]
  },
  {
   "cell_type": "code",
   "execution_count": 5,
   "id": "0a2a1545-2edd-4104-8a86-0eea143dea53",
   "metadata": {},
   "outputs": [],
   "source": [
    "from langchain_openai import ChatOpenAI\n",
    "\n",
    "llm = ChatOpenAI(model=\"gpt-4o-mini\")"
   ]
  },
  {
   "cell_type": "code",
   "execution_count": 6,
   "id": "3fee87e8-3624-4e52-af67-02c66093ab0a",
   "metadata": {},
   "outputs": [],
   "source": [
    "llm_with_tools = llm.bind_tools([list_commits_between])"
   ]
  },
  {
   "cell_type": "code",
   "execution_count": 7,
   "id": "ab14fee0-cd80-4d6d-b19d-c0a1e4df668b",
   "metadata": {},
   "outputs": [],
   "source": [
    "query = 'Summarize what has been done in the project last year.'"
   ]
  },
  {
   "cell_type": "code",
   "execution_count": 14,
   "id": "38a07346-78c8-4ad3-ace4-c55bac9530eb",
   "metadata": {},
   "outputs": [
    {
     "data": {
      "text/plain": [
       "AIMessage(content='', additional_kwargs={'tool_calls': [{'id': 'call_jfAmlpAMNPyUjLdjKHERxiF0', 'function': {'arguments': '{\"start_date\":\"2022-10-01\",\"end_date\":\"2023-10-01\"}', 'name': 'list_commits_between'}, 'type': 'function'}], 'refusal': None}, response_metadata={'token_usage': {'completion_tokens': 33, 'prompt_tokens': 103, 'total_tokens': 136, 'completion_tokens_details': {'accepted_prediction_tokens': 0, 'audio_tokens': 0, 'reasoning_tokens': 0, 'rejected_prediction_tokens': 0}, 'prompt_tokens_details': {'audio_tokens': 0, 'cached_tokens': 0}}, 'model_name': 'gpt-4o-mini-2024-07-18', 'system_fingerprint': 'fp_72ed7ab54c', 'finish_reason': 'tool_calls', 'logprobs': None}, id='run-a340668a-157b-4e96-805d-7d182668c33b-0', tool_calls=[{'name': 'list_commits_between', 'args': {'start_date': '2022-10-01', 'end_date': '2023-10-01'}, 'id': 'call_jfAmlpAMNPyUjLdjKHERxiF0', 'type': 'tool_call'}], usage_metadata={'input_tokens': 103, 'output_tokens': 33, 'total_tokens': 136, 'input_token_details': {'audio': 0, 'cache_read': 0}, 'output_token_details': {'audio': 0, 'reasoning': 0}})"
      ]
     },
     "execution_count": 14,
     "metadata": {},
     "output_type": "execute_result"
    }
   ],
   "source": [
    "msg_with_tool_calls = llm_with_tools.invoke(query)\n",
    "msg_with_tool_calls"
   ]
  },
  {
   "cell_type": "code",
   "execution_count": 15,
   "id": "6860aed7-542e-48a0-b550-4bffb2f17516",
   "metadata": {},
   "outputs": [
    {
     "data": {
      "text/plain": [
       "[HumanMessage(content='Summarize what has been done in the project last year.', additional_kwargs={}, response_metadata={}),\n",
       " AIMessage(content='', additional_kwargs={'tool_calls': [{'id': 'call_jfAmlpAMNPyUjLdjKHERxiF0', 'function': {'arguments': '{\"start_date\":\"2022-10-01\",\"end_date\":\"2023-10-01\"}', 'name': 'list_commits_between'}, 'type': 'function'}], 'refusal': None}, response_metadata={'token_usage': {'completion_tokens': 33, 'prompt_tokens': 103, 'total_tokens': 136, 'completion_tokens_details': {'accepted_prediction_tokens': 0, 'audio_tokens': 0, 'reasoning_tokens': 0, 'rejected_prediction_tokens': 0}, 'prompt_tokens_details': {'audio_tokens': 0, 'cached_tokens': 0}}, 'model_name': 'gpt-4o-mini-2024-07-18', 'system_fingerprint': 'fp_72ed7ab54c', 'finish_reason': 'tool_calls', 'logprobs': None}, id='run-a340668a-157b-4e96-805d-7d182668c33b-0', tool_calls=[{'name': 'list_commits_between', 'args': {'start_date': '2022-10-01', 'end_date': '2023-10-01'}, 'id': 'call_jfAmlpAMNPyUjLdjKHERxiF0', 'type': 'tool_call'}], usage_metadata={'input_tokens': 103, 'output_tokens': 33, 'total_tokens': 136, 'input_token_details': {'audio': 0, 'cache_read': 0}, 'output_token_details': {'audio': 0, 'reasoning': 0}}),\n",
       " ToolMessage(content='a83e4792 Fix the number of uncompilable tests. When a `test X` has multiple compilation errors, the [Defects4J fix_test_suite.pl](https://github.com/rjust/defects4j/blob/master/framework/util/fix_test_suite.pl) script tries to fix `test X` as many times as the number of compilation errors.  This leads the script to report an incorrect number of uncompilable tests.  This commit set the maximum number of errors reported by javac to 1 so that each test is fixed once.\\na2a750c2 Add `-D` debugging command-line argument and improve diagnostics\\n1b9cb6fc Merge pull request #509 from Thomsch/incorrect-target-name\\nb8954f07 Fix incorrect Mockito issue links (#511)\\nf07aea20 Update incorrect diff header\\n6357ac83 Revert \"Fix incorrect target name for Math 99\"\\n16546174 Fix incorrect target name for Math 99\\n12dc3da1 Clarify the number of bugs (#507)\\n1f5a8081 Exclude ant dependencies (i.e., ant-1.5.jar, ant-optional-1.5.1.jar, and ant-optional-1.5.jar) from the classpath of JxPath-{1,2,3} as they make the execution of automatically generated tests to throw a `java.lang.ClassNotFoundException: testsfile=` error.  Note: those dependencies are not required to compile or run the manually-written tests.\\n06a6b67f Fix for failing tests: replaced the [logical or](https://perldoc.perl.org/perlop#Logical-or-and-Exclusive-Or) with a [logical defined-or](https://perldoc.perl.org/perlop#Logical-Defined-Or) as the \\'test_id\\' might be 0.\\n7224cf12 Fixed test oracles: given the \\'test_id\\' of the provided .tar.bz2 file with all test suites is 0, the \\'test_id\\' in the output files must also be 0.\\nb3347f77 Empty lines on the buggy version can\\'t be buggy.\\n206bf350 Moved non-modified line one line up so that it is not considered modified.\\n0cd7bea1 Added missing empty line.\\nbe50ef0b Empty lines on the buggy version can\\'t be buggy.\\nbf8f6263 Attempt to address a RuntimeException that occurs when mutation analysis is performed on some Mockito bugs.\\nae096f33 Clarifying patch minimization guide (partially addresses #500)\\n91df5818 Added missing empty lines: JxPath-7 and JxPath-9.\\n4f74f0eb Added missing empty line.', name='list_commits_between', tool_call_id='call_jfAmlpAMNPyUjLdjKHERxiF0')]"
      ]
     },
     "execution_count": 15,
     "metadata": {},
     "output_type": "execute_result"
    }
   ],
   "source": [
    "from langchain_core.messages import HumanMessage\n",
    "\n",
    "messages = [HumanMessage(query), msg_with_tool_calls]\n",
    "\n",
    "for tool_call in msg_with_tool_calls.tool_calls:\n",
    "    selected_tool = locals()[tool_call['name']]\n",
    "    tool_msg = selected_tool.invoke(tool_call)\n",
    "    messages.append(tool_msg)\n",
    "\n",
    "messages"
   ]
  },
  {
   "cell_type": "code",
   "execution_count": 17,
   "id": "0ab3cafb-a25a-4da6-966a-e315b62f1cce",
   "metadata": {},
   "outputs": [
    {
     "name": "stdout",
     "output_type": "stream",
     "text": [
      "==================================\u001b[1m Ai Message \u001b[0m==================================\n",
      "\n",
      "Over the past year, the project has seen several important updates and fixes, including:\n",
      "\n",
      "1. **Error Handling Improvements**: \n",
      "   - Fixed the number of uncompilable tests by adjusting the error reporting of compilation errors to ensure each test is only assessed once.\n",
      "   - Added a debugging command-line argument to enhance diagnostics.\n",
      "\n",
      "2. **Merge and Issue Fixes**:\n",
      "   - Merged pull requests and fixed incorrect links to Mockito issues.\n",
      "   - Clarified bugs within the code, addressing specific issues with the Math 99 target names.\n",
      "\n",
      "3. **Dependency Management**:\n",
      "   - Excluded certain ant dependencies from the JxPath classpath to prevent common execution errors during testing.\n",
      "\n",
      "4. **Test Performance Enhancements**:\n",
      "   - Implemented fixes for testing failures related to logical operators, specifically replacing logical or with logical defined-or.\n",
      "   - Adjusted test oracles to ensure correct handling of test IDs.\n",
      "\n",
      "5. **General Code Cleanup**:\n",
      "   - Made several adjustments to handle empty lines and non-modified lines in code correctly, ensuring cleaner output and more accurate bug tracking.\n",
      "   - Attempted to resolve a RuntimeException linked to mutation analysis on specific Mockito bugs.\n",
      "\n",
      "6. **Documentation and Guidance**:\n",
      "   - Clarified the patch minimization guide to help developers better understand the process.\n",
      "\n",
      "Overall, the project has focused on improving error handling, refining test performance, and ensuring the reliability of the testing framework through various bug fixes and enhancements.\n"
     ]
    }
   ],
   "source": [
    "result = llm_with_tools.invoke(messages)\n",
    "result.pretty_print()"
   ]
  },
  {
   "cell_type": "markdown",
   "id": "22238d54-4c06-4b06-bc64-8e55090818ce",
   "metadata": {},
   "source": [
    "## Exercise\n",
    "\n",
    "1. Modify the code to ask about a specific contributor."
   ]
  },
  {
   "cell_type": "code",
   "execution_count": null,
   "id": "be1b41cf-e4e5-4095-83d1-050991500a79",
   "metadata": {},
   "outputs": [],
   "source": []
  }
 ],
 "metadata": {
  "kernelspec": {
   "display_name": "gen4ai-course",
   "language": "python",
   "name": "gen4ai-course"
  },
  "language_info": {
   "codemirror_mode": {
    "name": "ipython",
    "version": 3
   },
   "file_extension": ".py",
   "mimetype": "text/x-python",
   "name": "python",
   "nbconvert_exporter": "python",
   "pygments_lexer": "ipython3",
   "version": "3.12.8"
  }
 },
 "nbformat": 4,
 "nbformat_minor": 5
}
