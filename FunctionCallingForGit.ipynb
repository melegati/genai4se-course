{
 "cells": [
  {
   "cell_type": "markdown",
   "id": "03e8b870-e6fc-4bf5-a1bb-cf876a5f1591",
   "metadata": {},
   "source": [
    "# Function calling\n",
    "\n",
    "In this example, we will use function calling (tools) to obtain information from a Git repository."
   ]
  },
  {
   "cell_type": "markdown",
   "id": "c40f1eee-0d53-4a01-a5cf-9f7ed65cfb57",
   "metadata": {},
   "source": [
    "## Dependencies\n",
    "\n",
    "We will use LangChain again and we also need GitPython to interact with a Git repository."
   ]
  },
  {
   "cell_type": "code",
   "execution_count": 19,
   "id": "5b4f7765-d1d6-4aad-8ba6-160751c0d6dc",
   "metadata": {},
   "outputs": [
    {
     "name": "stdout",
     "output_type": "stream",
     "text": [
      "Requirement already satisfied: GitPython in ./env/lib/python3.12/site-packages (3.1.44)\n",
      "Requirement already satisfied: langchain-openai in ./env/lib/python3.12/site-packages (0.3.2)\n",
      "Requirement already satisfied: langchain-core in ./env/lib/python3.12/site-packages (0.3.31)\n",
      "Requirement already satisfied: gitdb<5,>=4.0.1 in ./env/lib/python3.12/site-packages (from GitPython) (4.0.12)\n",
      "Requirement already satisfied: openai<2.0.0,>=1.58.1 in ./env/lib/python3.12/site-packages (from langchain-openai) (1.60.2)\n",
      "Requirement already satisfied: tiktoken<1,>=0.7 in ./env/lib/python3.12/site-packages (from langchain-openai) (0.8.0)\n",
      "Requirement already satisfied: PyYAML>=5.3 in ./env/lib/python3.12/site-packages (from langchain-core) (6.0.2)\n",
      "Requirement already satisfied: jsonpatch<2.0,>=1.33 in ./env/lib/python3.12/site-packages (from langchain-core) (1.33)\n",
      "Requirement already satisfied: langsmith<0.4,>=0.1.125 in ./env/lib/python3.12/site-packages (from langchain-core) (0.3.2)\n",
      "Requirement already satisfied: packaging<25,>=23.2 in ./env/lib/python3.12/site-packages (from langchain-core) (24.2)\n",
      "Requirement already satisfied: pydantic<3.0.0,>=2.7.4 in ./env/lib/python3.12/site-packages (from langchain-core) (2.10.6)\n",
      "Requirement already satisfied: tenacity!=8.4.0,<10.0.0,>=8.1.0 in ./env/lib/python3.12/site-packages (from langchain-core) (9.0.0)\n",
      "Requirement already satisfied: typing-extensions>=4.7 in ./env/lib/python3.12/site-packages (from langchain-core) (4.12.2)\n",
      "Requirement already satisfied: smmap<6,>=3.0.1 in ./env/lib/python3.12/site-packages (from gitdb<5,>=4.0.1->GitPython) (5.0.2)\n",
      "Requirement already satisfied: jsonpointer>=1.9 in ./env/lib/python3.12/site-packages (from jsonpatch<2.0,>=1.33->langchain-core) (3.0.0)\n",
      "Requirement already satisfied: httpx<1,>=0.23.0 in ./env/lib/python3.12/site-packages (from langsmith<0.4,>=0.1.125->langchain-core) (0.28.1)\n",
      "Requirement already satisfied: orjson<4.0.0,>=3.9.14 in ./env/lib/python3.12/site-packages (from langsmith<0.4,>=0.1.125->langchain-core) (3.10.15)\n",
      "Requirement already satisfied: requests<3,>=2 in ./env/lib/python3.12/site-packages (from langsmith<0.4,>=0.1.125->langchain-core) (2.32.3)\n",
      "Requirement already satisfied: requests-toolbelt<2.0.0,>=1.0.0 in ./env/lib/python3.12/site-packages (from langsmith<0.4,>=0.1.125->langchain-core) (1.0.0)\n",
      "Requirement already satisfied: zstandard<0.24.0,>=0.23.0 in ./env/lib/python3.12/site-packages (from langsmith<0.4,>=0.1.125->langchain-core) (0.23.0)\n",
      "Requirement already satisfied: anyio<5,>=3.5.0 in ./env/lib/python3.12/site-packages (from openai<2.0.0,>=1.58.1->langchain-openai) (4.8.0)\n",
      "Requirement already satisfied: distro<2,>=1.7.0 in ./env/lib/python3.12/site-packages (from openai<2.0.0,>=1.58.1->langchain-openai) (1.9.0)\n",
      "Requirement already satisfied: jiter<1,>=0.4.0 in ./env/lib/python3.12/site-packages (from openai<2.0.0,>=1.58.1->langchain-openai) (0.8.2)\n",
      "Requirement already satisfied: sniffio in ./env/lib/python3.12/site-packages (from openai<2.0.0,>=1.58.1->langchain-openai) (1.3.1)\n",
      "Requirement already satisfied: tqdm>4 in ./env/lib/python3.12/site-packages (from openai<2.0.0,>=1.58.1->langchain-openai) (4.67.1)\n",
      "Requirement already satisfied: annotated-types>=0.6.0 in ./env/lib/python3.12/site-packages (from pydantic<3.0.0,>=2.7.4->langchain-core) (0.7.0)\n",
      "Requirement already satisfied: pydantic-core==2.27.2 in ./env/lib/python3.12/site-packages (from pydantic<3.0.0,>=2.7.4->langchain-core) (2.27.2)\n",
      "Requirement already satisfied: regex>=2022.1.18 in ./env/lib/python3.12/site-packages (from tiktoken<1,>=0.7->langchain-openai) (2024.11.6)\n",
      "Requirement already satisfied: idna>=2.8 in ./env/lib/python3.12/site-packages (from anyio<5,>=3.5.0->openai<2.0.0,>=1.58.1->langchain-openai) (3.10)\n",
      "Requirement already satisfied: certifi in ./env/lib/python3.12/site-packages (from httpx<1,>=0.23.0->langsmith<0.4,>=0.1.125->langchain-core) (2024.12.14)\n",
      "Requirement already satisfied: httpcore==1.* in ./env/lib/python3.12/site-packages (from httpx<1,>=0.23.0->langsmith<0.4,>=0.1.125->langchain-core) (1.0.7)\n",
      "Requirement already satisfied: h11<0.15,>=0.13 in ./env/lib/python3.12/site-packages (from httpcore==1.*->httpx<1,>=0.23.0->langsmith<0.4,>=0.1.125->langchain-core) (0.14.0)\n",
      "Requirement already satisfied: charset-normalizer<4,>=2 in ./env/lib/python3.12/site-packages (from requests<3,>=2->langsmith<0.4,>=0.1.125->langchain-core) (3.4.1)\n",
      "Requirement already satisfied: urllib3<3,>=1.21.1 in ./env/lib/python3.12/site-packages (from requests<3,>=2->langsmith<0.4,>=0.1.125->langchain-core) (2.3.0)\n"
     ]
    }
   ],
   "source": [
    "import sys\n",
    "!{sys.executable} -m pip install GitPython langchain-openai langchain-core"
   ]
  },
  {
   "cell_type": "markdown",
   "id": "f4b9c8cb-503b-479f-8057-a0980afd0df8",
   "metadata": {},
   "source": [
    "## Model\n",
    "\n",
    "We will use an OpenAI model again, so we need an API key."
   ]
  },
  {
   "cell_type": "code",
   "execution_count": 1,
   "id": "91f612f9-8495-48c9-8013-acc4b0880fb5",
   "metadata": {},
   "outputs": [
    {
     "name": "stdin",
     "output_type": "stream",
     "text": [
      "Enter API key for OpenAI:  ········\n"
     ]
    }
   ],
   "source": [
    "import getpass\n",
    "import os\n",
    "\n",
    "if not os.environ.get(\"OPENAI_API_KEY\"):\n",
    "  os.environ[\"OPENAI_API_KEY\"] = getpass.getpass(\"Enter API key for OpenAI: \")"
   ]
  },
  {
   "cell_type": "markdown",
   "id": "b168e7b6-a9dc-458b-9dff-5b66d6e8a898",
   "metadata": {},
   "source": [
    "## Defining the functions\n",
    "\n",
    "Let's define the functions (tools) that can be called to fulfill a task sent to the model.\n",
    "\n",
    "It is important to give informative names for the function and the parameters and provide some form of documentation. These details will be provided in the context of the query to the model."
   ]
  },
  {
   "cell_type": "code",
   "execution_count": 2,
   "id": "a26d9705-6d0b-42e1-86a8-114696e6aa5a",
   "metadata": {},
   "outputs": [],
   "source": [
    "from datetime import date\n",
    "from typing import List\n",
    "from langchain_core.tools import tool\n",
    "from git import Git\n",
    "\n",
    "repo_directory = './defects4j'\n",
    "\n",
    "@tool\n",
    "def list_commits_between(start_date: date, end_date: date) -> str:\n",
    "    \"\"\" Returns the messages of the commits from an interval between dates.\n",
    "    Args:\n",
    "        start_date: The start of the interval.\n",
    "        end_date: The end of the date.\n",
    "    \"\"\"\n",
    "    repo = Git(repo_directory)\n",
    "    logs = repo.log('--since={}'.format(start_date), '--until={}'.format(end_date), '--oneline')\n",
    "    return logs"
   ]
  },
  {
   "cell_type": "markdown",
   "id": "1a5f2346-ef42-4393-a1cb-f82bd712ff92",
   "metadata": {},
   "source": [
    "## Binding the functions to the model\n",
    "\n",
    "Now, let's register the functions into the model. After that, the calls to the model will inform about the existence of the functions, what they can do and their parameters."
   ]
  },
  {
   "cell_type": "code",
   "execution_count": 3,
   "id": "f5c42041-b083-4ccd-99ac-b56e69a0f153",
   "metadata": {},
   "outputs": [],
   "source": [
    "from langchain_openai import ChatOpenAI\n",
    "\n",
    "llm = ChatOpenAI(model=\"gpt-4o-mini\")\n",
    "\n",
    "llm_with_tools = llm.bind_tools([list_commits_between])"
   ]
  },
  {
   "cell_type": "markdown",
   "id": "68489638-9791-44a8-a569-45ea2ad9aaeb",
   "metadata": {},
   "source": [
    "## Querying the model"
   ]
  },
  {
   "cell_type": "markdown",
   "id": "af2c1f7d-1077-4f3d-93b9-920f84b12f83",
   "metadata": {},
   "source": [
    "Let's ask the model to summarize what was done in the project in the last year. \n",
    "\n",
    "To do so, we have to tell the model the date of today (do you want to try without doing so?))."
   ]
  },
  {
   "cell_type": "code",
   "execution_count": 33,
   "id": "ab14fee0-cd80-4d6d-b19d-c0a1e4df668b",
   "metadata": {},
   "outputs": [],
   "source": [
    "from datetime import date\n",
    "\n",
    "query = '''Summarize what has been done in the project last calendar year. Today is {}. \n",
    "           In your answer, provide the dates of which your results refer to.'''.format(date.today())"
   ]
  },
  {
   "cell_type": "markdown",
   "id": "b5e4937a-6e1f-4ac6-a4bb-5a66e67b1fed",
   "metadata": {},
   "source": [
    "Now let's query the model:"
   ]
  },
  {
   "cell_type": "code",
   "execution_count": 34,
   "id": "df65dbf6-a4b6-49cf-a5dd-82d763d38020",
   "metadata": {},
   "outputs": [],
   "source": [
    "msg_with_tool_calls = llm_with_tools.invoke(query)"
   ]
  },
  {
   "cell_type": "markdown",
   "id": "ea719668-b568-4e38-87db-0349443b6638",
   "metadata": {},
   "source": [
    "Let's inspect the response."
   ]
  },
  {
   "cell_type": "code",
   "execution_count": 35,
   "id": "aba0db10-ccdb-426a-a1e7-abd6bbb8f809",
   "metadata": {},
   "outputs": [
    {
     "data": {
      "text/plain": [
       "AIMessage(content='', additional_kwargs={'tool_calls': [{'id': 'call_ZVfHQOBk4Y94aNpgg4l1mvlG', 'function': {'arguments': '{\"start_date\":\"2024-01-01\",\"end_date\":\"2024-12-31\"}', 'name': 'list_commits_between'}, 'type': 'function'}], 'refusal': None}, response_metadata={'token_usage': {'completion_tokens': 33, 'prompt_tokens': 130, 'total_tokens': 163, 'completion_tokens_details': {'accepted_prediction_tokens': 0, 'audio_tokens': 0, 'reasoning_tokens': 0, 'rejected_prediction_tokens': 0}, 'prompt_tokens_details': {'audio_tokens': 0, 'cached_tokens': 0}}, 'model_name': 'gpt-4o-mini-2024-07-18', 'system_fingerprint': 'fp_72ed7ab54c', 'finish_reason': 'tool_calls', 'logprobs': None}, id='run-92c41174-9bbf-4e76-9f30-44a252ecf403-0', tool_calls=[{'name': 'list_commits_between', 'args': {'start_date': '2024-01-01', 'end_date': '2024-12-31'}, 'id': 'call_ZVfHQOBk4Y94aNpgg4l1mvlG', 'type': 'tool_call'}], usage_metadata={'input_tokens': 130, 'output_tokens': 33, 'total_tokens': 163, 'input_token_details': {'audio': 0, 'cache_read': 0}, 'output_token_details': {'audio': 0, 'reasoning': 0}})"
      ]
     },
     "execution_count": 35,
     "metadata": {},
     "output_type": "execute_result"
    }
   ],
   "source": [
    "msg_with_tool_calls"
   ]
  },
  {
   "cell_type": "markdown",
   "id": "5f25bbf5-197d-4fbb-8a65-d9e8cc635f50",
   "metadata": {},
   "source": [
    "Now, we have to pass the previous messages to the model. Let's prepare the list of messages."
   ]
  },
  {
   "cell_type": "code",
   "execution_count": 36,
   "id": "6860aed7-542e-48a0-b550-4bffb2f17516",
   "metadata": {},
   "outputs": [
    {
     "name": "stdout",
     "output_type": "stream",
     "text": [
      "=================================\u001b[1m Tool Message \u001b[0m=================================\n",
      "Name: list_commits_between\n",
      "\n",
      "6d54320e Update version number.\n",
      "8bb959b6 Consistent target JVM version for all defect builds (#628)\n",
      "d062ed66 Update Dockerfile to Java 11 (#622)\n",
      "6a99ea10 Add randoopBloodhound to supported test generators\n",
      "640a67c2 Update README.\n",
      "cfb51a7c Java 11 compatibility (#613)\n",
      "d527ffd0 docs: update README.md (#610)\n",
      "089af8d0 Add convenience script for test stats.\n",
      "ac9c0037 Update Randoop to 4.3.3\n",
      "ff93e4f8 Reorganize notes about `cpanm` (#590)\n",
      "45f22d94 Revert \"add corrected version of Camille's Bloodhound script\" randoop releases need to add jacocoagent.jar\n",
      "1edb002f add corrected version of Camille's Bloodhound script\n",
      "0e238102 Be more explicit about Subversion\n",
      "e85036c0 How to determine the method names of changed methods (#582)\n",
      "796a1bdb Improve documentation of `tests.trigger.cause` (#581)\n",
      "ed34738c Sort lines\n",
      "f8ad2018 Context about different command-line interfaces (#544)\n",
      "90d4ecd7 Use actions/cache@v3 (#577)\n",
      "4d1479e5 Fail if Java version is not 8. (#567)\n",
      "9256b7b4 Prevent duplicating active_bugs.csv header (#474) (#552)\n",
      "0afd8a2b Clarify an example in the README.\n",
      "909a591c Update README.md (#556)\n",
      "fd1687f0 Untabify\n",
      "c2b574c3 Make checkout more efficient (#549)\n"
     ]
    }
   ],
   "source": [
    "from langchain_core.messages import HumanMessage\n",
    "\n",
    "messages = [HumanMessage(query), msg_with_tool_calls]\n",
    "\n",
    "for tool_call in msg_with_tool_calls.tool_calls:\n",
    "    selected_tool = locals()[tool_call['name']]\n",
    "    tool_msg = selected_tool.invoke(tool_call)\n",
    "    messages.append(tool_msg)\n",
    "    tool_msg.pretty_print()"
   ]
  },
  {
   "cell_type": "markdown",
   "id": "e9dc05de-176a-4370-bf94-187dd829225a",
   "metadata": {},
   "source": [
    "Now, it is time to send to the model and see the answer."
   ]
  },
  {
   "cell_type": "code",
   "execution_count": 37,
   "id": "0ab3cafb-a25a-4da6-966a-e315b62f1cce",
   "metadata": {},
   "outputs": [
    {
     "name": "stdout",
     "output_type": "stream",
     "text": [
      "==================================\u001b[1m Ai Message \u001b[0m==================================\n",
      "\n",
      "From January 1, 2024, to December 31, 2024, several significant updates and changes were made to the project. Here is a summary of the key activities:\n",
      "\n",
      "1. **Version Updates**:\n",
      "   - The project version number was updated.\n",
      "   - Java 11 compatibility was introduced and documented.\n",
      "\n",
      "2. **Dockerfile Adjustments**:\n",
      "   - The Dockerfile was updated to use Java 11.\n",
      "\n",
      "3. **Testing Enhancements**:\n",
      "   - The project added support for a new test generator, RandoopBloodhound.\n",
      "   - Randoop was updated to version 4.3.3.\n",
      "\n",
      "4. **Documentation Improvements**:\n",
      "   - The README file was updated to reflect new features and compatibility.\n",
      "   - Additional documentation was provided for the `tests.trigger.cause` to improve understanding.\n",
      "   - Clarifications and examples were added to the README.md.\n",
      "\n",
      "5. **Build Improvements**:\n",
      "   - Consistent JVM targeting was established for all defect builds.\n",
      "   - A convenience script for test statistics was added.\n",
      "   - Efficiency in the checkout process was improved.\n",
      "\n",
      "6. **Miscellaneous**:\n",
      "   - Various minor improvements and clean-ups in the codebase, including sorting lines and removing unnecessary tabs.\n",
      "\n",
      "Overall, the project made strides in compatibility, documentation, testing capabilities, and build efficiency throughout 2024.\n"
     ]
    }
   ],
   "source": [
    "result = llm_with_tools.invoke(messages)\n",
    "result.pretty_print()"
   ]
  },
  {
   "cell_type": "markdown",
   "id": "22238d54-4c06-4b06-bc64-8e55090818ce",
   "metadata": {},
   "source": [
    "## Exercise\n",
    "\n",
    "1. Modify the code to ask about a specific contributor."
   ]
  },
  {
   "cell_type": "code",
   "execution_count": null,
   "id": "2d4c030e-8aad-4298-91e6-8badb7e26a7a",
   "metadata": {},
   "outputs": [],
   "source": []
  }
 ],
 "metadata": {
  "kernelspec": {
   "display_name": "gen4ai-course",
   "language": "python",
   "name": "gen4ai-course"
  },
  "language_info": {
   "codemirror_mode": {
    "name": "ipython",
    "version": 3
   },
   "file_extension": ".py",
   "mimetype": "text/x-python",
   "name": "python",
   "nbconvert_exporter": "python",
   "pygments_lexer": "ipython3",
   "version": "3.12.8"
  }
 },
 "nbformat": 4,
 "nbformat_minor": 5
}
